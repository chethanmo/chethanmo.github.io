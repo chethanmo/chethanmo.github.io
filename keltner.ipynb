{
  "cells": [
    {
      "cell_type": "markdown",
      "metadata": {
        "id": "view-in-github",
        "colab_type": "text"
      },
      "source": [
        "<a href=\"https://colab.research.google.com/github/chethanmo/chethanmo.github.io/blob/master/keltner.ipynb\" target=\"_parent\"><img src=\"https://colab.research.google.com/assets/colab-badge.svg\" alt=\"Open In Colab\"/></a>"
      ]
    },
    {
      "cell_type": "code",
      "source": [
        "!pip install pandas pandas-ta matplotlib yfinance\n",
        "!pip install --upgrade pandas-datareader\n"
      ],
      "metadata": {
        "id": "7JOvPnlrzahu",
        "outputId": "d6d6f70a-d528-4cb2-ddf7-00d126d889c2",
        "colab": {
          "base_uri": "https://localhost:8080/"
        }
      },
      "execution_count": 86,
      "outputs": [
        {
          "output_type": "stream",
          "name": "stdout",
          "text": [
            "Looking in indexes: https://pypi.org/simple, https://us-python.pkg.dev/colab-wheels/public/simple/\n",
            "Requirement already satisfied: pandas in /usr/local/lib/python3.8/dist-packages (1.3.5)\n",
            "Requirement already satisfied: pandas-ta in /usr/local/lib/python3.8/dist-packages (0.3.14b0)\n",
            "Requirement already satisfied: matplotlib in /usr/local/lib/python3.8/dist-packages (3.2.2)\n",
            "Requirement already satisfied: yfinance in /usr/local/lib/python3.8/dist-packages (0.2.11)\n",
            "Requirement already satisfied: numpy>=1.17.3 in /usr/local/lib/python3.8/dist-packages (from pandas) (1.21.6)\n",
            "Requirement already satisfied: pytz>=2017.3 in /usr/local/lib/python3.8/dist-packages (from pandas) (2022.7.1)\n",
            "Requirement already satisfied: python-dateutil>=2.7.3 in /usr/local/lib/python3.8/dist-packages (from pandas) (2.8.2)\n",
            "Requirement already satisfied: kiwisolver>=1.0.1 in /usr/local/lib/python3.8/dist-packages (from matplotlib) (1.4.4)\n",
            "Requirement already satisfied: cycler>=0.10 in /usr/local/lib/python3.8/dist-packages (from matplotlib) (0.11.0)\n",
            "Requirement already satisfied: pyparsing!=2.0.4,!=2.1.2,!=2.1.6,>=2.0.1 in /usr/local/lib/python3.8/dist-packages (from matplotlib) (3.0.9)\n",
            "Requirement already satisfied: lxml>=4.9.1 in /usr/local/lib/python3.8/dist-packages (from yfinance) (4.9.2)\n",
            "Requirement already satisfied: frozendict>=2.3.4 in /usr/local/lib/python3.8/dist-packages (from yfinance) (2.3.4)\n",
            "Requirement already satisfied: appdirs>=1.4.4 in /usr/local/lib/python3.8/dist-packages (from yfinance) (1.4.4)\n",
            "Requirement already satisfied: cryptography>=3.3.2 in /usr/local/lib/python3.8/dist-packages (from yfinance) (39.0.1)\n",
            "Requirement already satisfied: beautifulsoup4>=4.11.1 in /usr/local/lib/python3.8/dist-packages (from yfinance) (4.11.2)\n",
            "Requirement already satisfied: requests>=2.26 in /usr/local/lib/python3.8/dist-packages (from yfinance) (2.28.2)\n",
            "Requirement already satisfied: html5lib>=1.1 in /usr/local/lib/python3.8/dist-packages (from yfinance) (1.1)\n",
            "Requirement already satisfied: multitasking>=0.0.7 in /usr/local/lib/python3.8/dist-packages (from yfinance) (0.0.11)\n",
            "Requirement already satisfied: soupsieve>1.2 in /usr/local/lib/python3.8/dist-packages (from beautifulsoup4>=4.11.1->yfinance) (2.3.2.post1)\n",
            "Requirement already satisfied: cffi>=1.12 in /usr/local/lib/python3.8/dist-packages (from cryptography>=3.3.2->yfinance) (1.15.1)\n",
            "Requirement already satisfied: webencodings in /usr/local/lib/python3.8/dist-packages (from html5lib>=1.1->yfinance) (0.5.1)\n",
            "Requirement already satisfied: six>=1.9 in /usr/local/lib/python3.8/dist-packages (from html5lib>=1.1->yfinance) (1.15.0)\n",
            "Requirement already satisfied: charset-normalizer<4,>=2 in /usr/local/lib/python3.8/dist-packages (from requests>=2.26->yfinance) (2.1.1)\n",
            "Requirement already satisfied: urllib3<1.27,>=1.21.1 in /usr/local/lib/python3.8/dist-packages (from requests>=2.26->yfinance) (1.24.3)\n",
            "Requirement already satisfied: certifi>=2017.4.17 in /usr/local/lib/python3.8/dist-packages (from requests>=2.26->yfinance) (2022.12.7)\n",
            "Requirement already satisfied: idna<4,>=2.5 in /usr/local/lib/python3.8/dist-packages (from requests>=2.26->yfinance) (2.10)\n",
            "Requirement already satisfied: pycparser in /usr/local/lib/python3.8/dist-packages (from cffi>=1.12->cryptography>=3.3.2->yfinance) (2.21)\n",
            "Looking in indexes: https://pypi.org/simple, https://us-python.pkg.dev/colab-wheels/public/simple/\n",
            "Requirement already satisfied: pandas-datareader in /usr/local/lib/python3.8/dist-packages (0.10.0)\n",
            "Requirement already satisfied: lxml in /usr/local/lib/python3.8/dist-packages (from pandas-datareader) (4.9.2)\n",
            "Requirement already satisfied: requests>=2.19.0 in /usr/local/lib/python3.8/dist-packages (from pandas-datareader) (2.28.2)\n",
            "Requirement already satisfied: pandas>=0.23 in /usr/local/lib/python3.8/dist-packages (from pandas-datareader) (1.3.5)\n",
            "Requirement already satisfied: pytz>=2017.3 in /usr/local/lib/python3.8/dist-packages (from pandas>=0.23->pandas-datareader) (2022.7.1)\n",
            "Requirement already satisfied: numpy>=1.17.3 in /usr/local/lib/python3.8/dist-packages (from pandas>=0.23->pandas-datareader) (1.21.6)\n",
            "Requirement already satisfied: python-dateutil>=2.7.3 in /usr/local/lib/python3.8/dist-packages (from pandas>=0.23->pandas-datareader) (2.8.2)\n",
            "Requirement already satisfied: urllib3<1.27,>=1.21.1 in /usr/local/lib/python3.8/dist-packages (from requests>=2.19.0->pandas-datareader) (1.24.3)\n",
            "Requirement already satisfied: idna<4,>=2.5 in /usr/local/lib/python3.8/dist-packages (from requests>=2.19.0->pandas-datareader) (2.10)\n",
            "Requirement already satisfied: charset-normalizer<4,>=2 in /usr/local/lib/python3.8/dist-packages (from requests>=2.19.0->pandas-datareader) (2.1.1)\n",
            "Requirement already satisfied: certifi>=2017.4.17 in /usr/local/lib/python3.8/dist-packages (from requests>=2.19.0->pandas-datareader) (2022.12.7)\n",
            "Requirement already satisfied: six>=1.5 in /usr/local/lib/python3.8/dist-packages (from python-dateutil>=2.7.3->pandas>=0.23->pandas-datareader) (1.15.0)\n"
          ]
        }
      ]
    },
    {
      "cell_type": "code",
      "source": [
        "import pandas as pd\n",
        "import pandas_ta as ta\n",
        "import yfinance as yf\n",
        "from datetime import date as date\n",
        "from dateutil.relativedelta import relativedelta\n",
        "import matplotlib.pyplot as plt\n"
      ],
      "metadata": {
        "id": "ndoVilSVz5eW"
      },
      "execution_count": 87,
      "outputs": []
    },
    {
      "cell_type": "code",
      "source": [
        "file_path = '/content/EQUITY_L.csv'\n",
        "fields = ['SYMBOL']\n",
        "tickers = pd.read_csv(file_path, usecols=fields)"
      ],
      "metadata": {
        "id": "DoKZJAaS0Rhf"
      },
      "execution_count": 99,
      "outputs": []
    },
    {
      "cell_type": "code",
      "source": [
        "from concurrent.futures import ThreadPoolExecutor\n",
        "\n",
        "ath_list = []\n",
        "for i in range(0,len(tickers)):\n",
        "  ath_list.append(tickers['SYMBOL'][i] +'.NS')\n",
        "\n",
        "unwanted = {'INDO-RE.NS','CDSL.NS','HERIT-RE.NS','ZODIAC.NS','EMAMIPAP.NS','DIGJAMLMTD.NS','GUJRAFFIA.NS','NIRAJISPAT.NS','KALYANI.NS','ARTEMISMED.NS'}\n",
        "ath_list = [e for e in ath_list if e not in unwanted]\n",
        "\n",
        "#print (ath_list)\n",
        "\n",
        "def get_stats(ticker):\n",
        "    info = yf.Tickers(ticker).tickers[ticker].fast_info\n",
        "    return ticker, info['last_price'], info['year_high'], info['two_hundred_day_average']\n",
        "def paralel_func(ticker):\n",
        "    with ThreadPoolExecutor(max_workers=None) as executor:\n",
        "        results = list(executor.map(get_stats, ticker))\n",
        "    return results\n",
        "\n",
        "results = paralel_func(ath_list)"
      ],
      "metadata": {
        "id": "N5dWnDKO0bCn"
      },
      "execution_count": 100,
      "outputs": []
    },
    {
      "cell_type": "code",
      "source": [
        "ticker_list = pd.DataFrame(results, columns=['Ticker', 'Last_price', 'ATH', 'two_EMA']) #creating the dataframe\n",
        "\n",
        "#pd.set_option('display.max_rows', None)\n",
        "\n",
        "ticker_list = ticker_list.query('Last_price > ATH * 0.9 and Last_price > two_EMA and Last_price < 500')\n",
        "ticker_list.reset_index(drop=True, inplace=True)"
      ],
      "metadata": {
        "id": "2Vpea9sB1YxI"
      },
      "execution_count": 101,
      "outputs": []
    },
    {
      "cell_type": "code",
      "source": [
        "startdate = date.today() - relativedelta(years=4)\n",
        "enddate = date.today() + relativedelta(days=1)\n",
        "\n",
        "x = ticker_list['Ticker'].to_string(header=False,index=False).split('\\n')\n",
        "tickers = [','.join(ele.split()) for ele in x]\n",
        "\n",
        "df = yf.download(tickers, start= startdate, end= enddate)"
      ],
      "metadata": {
        "id": "5Av-v3Kw4G15",
        "outputId": "3aa6443e-db7f-492b-f886-b2132d5389b4",
        "colab": {
          "base_uri": "https://localhost:8080/"
        }
      },
      "execution_count": 102,
      "outputs": [
        {
          "output_type": "stream",
          "name": "stdout",
          "text": [
            "[*********************100%***********************]  81 of 81 completed\n"
          ]
        }
      ]
    },
    {
      "cell_type": "code",
      "source": [
        "pd.set_option('display.max_rows', 10)\n",
        "#df"
      ],
      "metadata": {
        "id": "2u3tF7yg7Zk3"
      },
      "execution_count": 103,
      "outputs": []
    },
    {
      "cell_type": "code",
      "source": [
        "from time import strftime\n",
        "import datetime\n",
        "prev_day = (date.today() - datetime.timedelta(days=1)).strftime('%Y-%m-%d')\n",
        "to_day = date.today().strftime('%Y-%m-%d')"
      ],
      "metadata": {
        "id": "P4gCSkIbU1Cd"
      },
      "execution_count": 104,
      "outputs": []
    },
    {
      "cell_type": "code",
      "source": [
        "ax_df = df.copy()\n",
        "df1 = pd.DataFrame()\n",
        "\n",
        "for ticker in tickers:\n",
        "  test = ta.kc(close=ax_df[('Close', ticker)], high=ax_df[('High', ticker)], low=ax_df[('Low', ticker)], length=20, scalar=1.2, mamode='ema', tr=True)\n",
        "  test.columns = pd.MultiIndex.from_product([test.columns, [ticker]])\n",
        "  df1 = pd.concat([df1, test], axis=1)\n",
        "  df1.sort_index()\n",
        "  \n",
        "ax_df = pd.concat([ax_df, df1], axis=1)\n",
        "ax_df.reset_index()\n",
        "ax_df = ax_df.drop(['Adj Close','Volume'], level=0, axis=1)"
      ],
      "metadata": {
        "id": "7YFnD5b0EWQD"
      },
      "execution_count": 105,
      "outputs": []
    },
    {
      "cell_type": "code",
      "source": [
        "ax_df= ax_df.swaplevel(0, 1, 1).sort_index(axis=1)\n",
        "ax_df = ax_df.tail(7)\n"
      ],
      "metadata": {
        "id": "vxnIql6NFalU"
      },
      "execution_count": 106,
      "outputs": []
    },
    {
      "cell_type": "code",
      "source": [
        "ax_df = ax_df.T"
      ],
      "metadata": {
        "id": "Q57Z5AUp_lfv"
      },
      "execution_count": 107,
      "outputs": []
    },
    {
      "cell_type": "code",
      "source": [
        "for ticker in tickers:\n",
        "  for column in ax_df.columns:\n",
        "    if ax_df.loc[(ticker,'Close'), column] < ax_df.loc[(ticker,'KCLe_20_1.2'), column]:\n",
        "      print(ticker , column)"
      ],
      "metadata": {
        "id": "K1ff9ev6__k5",
        "outputId": "ef25e4e8-4f88-465e-ea14-043f240181d5",
        "colab": {
          "base_uri": "https://localhost:8080/"
        }
      },
      "execution_count": 108,
      "outputs": [
        {
          "output_type": "stream",
          "name": "stdout",
          "text": [
            "MANOMAY.NS 2023-02-03 00:00:00\n",
            "PETRONET.NS 2023-02-03 00:00:00\n",
            "RECLTD.NS 2023-02-13 00:00:00\n"
          ]
        }
      ]
    }
  ],
  "metadata": {
    "colab": {
      "name": "Welcome To Colaboratory",
      "provenance": [],
      "include_colab_link": true
    },
    "kernelspec": {
      "display_name": "Python 3",
      "name": "python3"
    }
  },
  "nbformat": 4,
  "nbformat_minor": 0
}