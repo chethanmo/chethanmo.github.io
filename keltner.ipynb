{
  "cells": [
    {
      "cell_type": "markdown",
      "metadata": {
        "id": "view-in-github",
        "colab_type": "text"
      },
      "source": [
        "<a href=\"https://colab.research.google.com/github/chethanmo/chethanmo.github.io/blob/master/keltner.ipynb\" target=\"_parent\"><img src=\"https://colab.research.google.com/assets/colab-badge.svg\" alt=\"Open In Colab\"/></a>"
      ]
    },
    {
      "cell_type": "code",
      "source": [
        "!pip install pandas pandas-ta matplotlib yfinance\n",
        "!pip install --upgrade pandas-datareader\n"
      ],
      "metadata": {
        "colab": {
          "base_uri": "https://localhost:8080/"
        },
        "id": "7JOvPnlrzahu",
        "outputId": "d6d6f70a-d528-4cb2-ddf7-00d126d889c2"
      },
      "execution_count": 86,
      "outputs": [
        {
          "output_type": "stream",
          "name": "stdout",
          "text": [
            "Looking in indexes: https://pypi.org/simple, https://us-python.pkg.dev/colab-wheels/public/simple/\n",
            "Requirement already satisfied: pandas in /usr/local/lib/python3.8/dist-packages (1.3.5)\n",
            "Requirement already satisfied: pandas-ta in /usr/local/lib/python3.8/dist-packages (0.3.14b0)\n",
            "Requirement already satisfied: matplotlib in /usr/local/lib/python3.8/dist-packages (3.2.2)\n",
            "Requirement already satisfied: yfinance in /usr/local/lib/python3.8/dist-packages (0.2.11)\n",
            "Requirement already satisfied: numpy>=1.17.3 in /usr/local/lib/python3.8/dist-packages (from pandas) (1.21.6)\n",
            "Requirement already satisfied: pytz>=2017.3 in /usr/local/lib/python3.8/dist-packages (from pandas) (2022.7.1)\n",
            "Requirement already satisfied: python-dateutil>=2.7.3 in /usr/local/lib/python3.8/dist-packages (from pandas) (2.8.2)\n",
            "Requirement already satisfied: kiwisolver>=1.0.1 in /usr/local/lib/python3.8/dist-packages (from matplotlib) (1.4.4)\n",
            "Requirement already satisfied: cycler>=0.10 in /usr/local/lib/python3.8/dist-packages (from matplotlib) (0.11.0)\n",
            "Requirement already satisfied: pyparsing!=2.0.4,!=2.1.2,!=2.1.6,>=2.0.1 in /usr/local/lib/python3.8/dist-packages (from matplotlib) (3.0.9)\n",
            "Requirement already satisfied: lxml>=4.9.1 in /usr/local/lib/python3.8/dist-packages (from yfinance) (4.9.2)\n",
            "Requirement already satisfied: frozendict>=2.3.4 in /usr/local/lib/python3.8/dist-packages (from yfinance) (2.3.4)\n",
            "Requirement already satisfied: appdirs>=1.4.4 in /usr/local/lib/python3.8/dist-packages (from yfinance) (1.4.4)\n",
            "Requirement already satisfied: cryptography>=3.3.2 in /usr/local/lib/python3.8/dist-packages (from yfinance) (39.0.1)\n",
            "Requirement already satisfied: beautifulsoup4>=4.11.1 in /usr/local/lib/python3.8/dist-packages (from yfinance) (4.11.2)\n",
            "Requirement already satisfied: requests>=2.26 in /usr/local/lib/python3.8/dist-packages (from yfinance) (2.28.2)\n",
            "Requirement already satisfied: html5lib>=1.1 in /usr/local/lib/python3.8/dist-packages (from yfinance) (1.1)\n",
            "Requirement already satisfied: multitasking>=0.0.7 in /usr/local/lib/python3.8/dist-packages (from yfinance) (0.0.11)\n",
            "Requirement already satisfied: soupsieve>1.2 in /usr/local/lib/python3.8/dist-packages (from beautifulsoup4>=4.11.1->yfinance) (2.3.2.post1)\n",
            "Requirement already satisfied: cffi>=1.12 in /usr/local/lib/python3.8/dist-packages (from cryptography>=3.3.2->yfinance) (1.15.1)\n",
            "Requirement already satisfied: webencodings in /usr/local/lib/python3.8/dist-packages (from html5lib>=1.1->yfinance) (0.5.1)\n",
            "Requirement already satisfied: six>=1.9 in /usr/local/lib/python3.8/dist-packages (from html5lib>=1.1->yfinance) (1.15.0)\n",
            "Requirement already satisfied: charset-normalizer<4,>=2 in /usr/local/lib/python3.8/dist-packages (from requests>=2.26->yfinance) (2.1.1)\n",
            "Requirement already satisfied: urllib3<1.27,>=1.21.1 in /usr/local/lib/python3.8/dist-packages (from requests>=2.26->yfinance) (1.24.3)\n",
            "Requirement already satisfied: certifi>=2017.4.17 in /usr/local/lib/python3.8/dist-packages (from requests>=2.26->yfinance) (2022.12.7)\n",
            "Requirement already satisfied: idna<4,>=2.5 in /usr/local/lib/python3.8/dist-packages (from requests>=2.26->yfinance) (2.10)\n",
            "Requirement already satisfied: pycparser in /usr/local/lib/python3.8/dist-packages (from cffi>=1.12->cryptography>=3.3.2->yfinance) (2.21)\n",
            "Looking in indexes: https://pypi.org/simple, https://us-python.pkg.dev/colab-wheels/public/simple/\n",
            "Requirement already satisfied: pandas-datareader in /usr/local/lib/python3.8/dist-packages (0.10.0)\n",
            "Requirement already satisfied: lxml in /usr/local/lib/python3.8/dist-packages (from pandas-datareader) (4.9.2)\n",
            "Requirement already satisfied: requests>=2.19.0 in /usr/local/lib/python3.8/dist-packages (from pandas-datareader) (2.28.2)\n",
            "Requirement already satisfied: pandas>=0.23 in /usr/local/lib/python3.8/dist-packages (from pandas-datareader) (1.3.5)\n",
            "Requirement already satisfied: pytz>=2017.3 in /usr/local/lib/python3.8/dist-packages (from pandas>=0.23->pandas-datareader) (2022.7.1)\n",
            "Requirement already satisfied: numpy>=1.17.3 in /usr/local/lib/python3.8/dist-packages (from pandas>=0.23->pandas-datareader) (1.21.6)\n",
            "Requirement already satisfied: python-dateutil>=2.7.3 in /usr/local/lib/python3.8/dist-packages (from pandas>=0.23->pandas-datareader) (2.8.2)\n",
            "Requirement already satisfied: urllib3<1.27,>=1.21.1 in /usr/local/lib/python3.8/dist-packages (from requests>=2.19.0->pandas-datareader) (1.24.3)\n",
            "Requirement already satisfied: idna<4,>=2.5 in /usr/local/lib/python3.8/dist-packages (from requests>=2.19.0->pandas-datareader) (2.10)\n",
            "Requirement already satisfied: charset-normalizer<4,>=2 in /usr/local/lib/python3.8/dist-packages (from requests>=2.19.0->pandas-datareader) (2.1.1)\n",
            "Requirement already satisfied: certifi>=2017.4.17 in /usr/local/lib/python3.8/dist-packages (from requests>=2.19.0->pandas-datareader) (2022.12.7)\n",
            "Requirement already satisfied: six>=1.5 in /usr/local/lib/python3.8/dist-packages (from python-dateutil>=2.7.3->pandas>=0.23->pandas-datareader) (1.15.0)\n"
          ]
        }
      ]
    },
    {
      "cell_type": "code",
      "source": [
        "import pandas as pd\n",
        "import pandas_ta as ta\n",
        "import yfinance as yf\n",
        "from datetime import date as date\n",
        "from dateutil.relativedelta import relativedelta\n",
        "import matplotlib.pyplot as plt\n"
      ],
      "metadata": {
        "id": "ndoVilSVz5eW"
      },
      "execution_count": 87,
      "outputs": []
    },
    {
      "cell_type": "code",
      "source": [
        "file_path = '/content/EQUITY_L.csv'\n",
        "fields = ['SYMBOL']\n",
        "tickers = pd.read_csv(file_path, usecols=fields)"
      ],
      "metadata": {
        "id": "DoKZJAaS0Rhf"
      },
      "execution_count": 116,
      "outputs": []
    },
    {
      "cell_type": "code",
      "source": [
        "from concurrent.futures import ThreadPoolExecutor\n",
        "\n",
        "ath_list = []\n",
        "for i in range(0,len(tickers)):\n",
        "  ath_list.append(tickers['SYMBOL'][i] +'.NS')\n",
        "\n",
        "unwanted = {'INDO-RE.NS','CDSL.NS','HERIT-RE.NS','ZODIAC.NS','EMAMIPAP.NS','DIGJAMLMTD.NS','GUJRAFFIA.NS','NIRAJISPAT.NS','KALYANI.NS','ARTEMISMED.NS'}\n",
        "ath_list = [e for e in ath_list if e not in unwanted]\n",
        "\n",
        "#print (ath_list)\n",
        "\n",
        "def get_stats(ticker):\n",
        "    info = yf.Tickers(ticker).tickers[ticker].fast_info\n",
        "    return ticker, info['last_price'], info['year_high'], info['two_hundred_day_average']\n",
        "def paralel_func(ticker):\n",
        "    with ThreadPoolExecutor(max_workers=None) as executor:\n",
        "        results = list(executor.map(get_stats, ticker))\n",
        "    return results\n",
        "\n",
        "results = paralel_func(ath_list)"
      ],
      "metadata": {
        "id": "N5dWnDKO0bCn"
      },
      "execution_count": 117,
      "outputs": []
    },
    {
      "cell_type": "code",
      "source": [
        "ticker_list = pd.DataFrame(results, columns=['Ticker', 'Last_price', 'ATH', 'two_EMA']) #creating the dataframe\n",
        "\n",
        "#pd.set_option('display.max_rows', None)\n",
        "\n",
        "ticker_list = ticker_list.query('Last_price > ATH * 0.9 and Last_price > two_EMA and Last_price < 500')\n",
        "ticker_list.reset_index(drop=True, inplace=True)"
      ],
      "metadata": {
        "id": "2Vpea9sB1YxI"
      },
      "execution_count": 118,
      "outputs": []
    },
    {
      "cell_type": "code",
      "source": [
        "startdate = date.today() - relativedelta(years=4)\n",
        "enddate = date.today() + relativedelta(days=1)\n",
        "\n",
        "x = ticker_list['Ticker'].to_string(header=False,index=False).split('\\n')\n",
        "tickers = [','.join(ele.split()) for ele in x]\n",
        "\n",
        "df = yf.download(tickers, start= startdate, end= enddate)"
      ],
      "metadata": {
        "colab": {
          "base_uri": "https://localhost:8080/"
        },
        "id": "5Av-v3Kw4G15",
        "outputId": "91b7232f-1be7-43bc-b9dc-b7ee6082a340"
      },
      "execution_count": 119,
      "outputs": [
        {
          "output_type": "stream",
          "name": "stdout",
          "text": [
            "[*********************100%***********************]  81 of 81 completed\n"
          ]
        }
      ]
    },
    {
      "cell_type": "code",
      "source": [
        "pd.set_option('display.max_rows', 10)\n",
        "#df"
      ],
      "metadata": {
        "id": "2u3tF7yg7Zk3"
      },
      "execution_count": 120,
      "outputs": []
    },
    {
      "cell_type": "code",
      "source": [
        "from time import strftime\n",
        "import datetime\n",
        "prev_day = (date.today() - datetime.timedelta(days=1)).strftime('%Y-%m-%d')\n",
        "to_day = date.today().strftime('%Y-%m-%d')"
      ],
      "metadata": {
        "id": "P4gCSkIbU1Cd"
      },
      "execution_count": 121,
      "outputs": []
    },
    {
      "cell_type": "code",
      "source": [
        "ax_df = df.copy()\n",
        "df1 = pd.DataFrame()\n",
        "\n",
        "for ticker in tickers:\n",
        "  test = ta.kc(close=ax_df[('Close', ticker)], high=ax_df[('High', ticker)], low=ax_df[('Low', ticker)], length=20, scalar=1.2, mamode='ema', tr=True)\n",
        "  test1 = ta.ema(close=ax_df[('Close', ticker)], length=200).to_frame('EMA200')\n",
        "  test.columns = pd.MultiIndex.from_product([test.columns, [ticker]])\n",
        "  test1.columns = pd.MultiIndex.from_product([test1.columns, [ticker]])\n",
        "  df1 = pd.concat([df1, test, test1], axis=1)\n",
        "  df1.sort_index()\n",
        "  \n",
        "ax_df = pd.concat([ax_df, df1], axis=1)\n",
        "ax_df.reset_index()\n",
        "ax_df = ax_df.drop(['Adj Close','Volume'], level=0, axis=1)"
      ],
      "metadata": {
        "id": "7YFnD5b0EWQD"
      },
      "execution_count": 135,
      "outputs": []
    },
    {
      "cell_type": "code",
      "source": [
        "ax_df= ax_df.swaplevel(0, 1, 1).sort_index(axis=1)\n",
        "ax_df = ax_df.tail(7)\n"
      ],
      "metadata": {
        "id": "vxnIql6NFalU"
      },
      "execution_count": 136,
      "outputs": []
    },
    {
      "cell_type": "code",
      "source": [
        "ax_df = ax_df.T"
      ],
      "metadata": {
        "id": "Q57Z5AUp_lfv"
      },
      "execution_count": 137,
      "outputs": []
    },
    {
      "cell_type": "code",
      "source": [
        "for ticker in tickers:\n",
        "  for column in ax_df.columns:\n",
        "    if ax_df.loc[(ticker,'EMA200'), ax_df.columns[6]] - ax_df.loc[(ticker,'EMA200'), ax_df.columns[0]] > 0 and ax_df.loc[(ticker,'EMA200'), ax_df.columns[6]] - ax_df.loc[(ticker,'EMA200'), ax_df.columns[5]] > 0:\n",
        "      if ax_df.loc[(ticker,'Close'), column] < ax_df.loc[(ticker,'KCLe_20_1.2'), column]:\n",
        "        print(ticker , column)\n"
      ],
      "metadata": {
        "colab": {
          "base_uri": "https://localhost:8080/"
        },
        "id": "K1ff9ev6__k5",
        "outputId": "1202de98-c077-45bc-f7fc-e766c647fd11"
      },
      "execution_count": 148,
      "outputs": [
        {
          "output_type": "stream",
          "name": "stdout",
          "text": [
            "MANOMAY.NS 2023-02-03 00:00:00\n",
            "PETRONET.NS 2023-02-03 00:00:00\n",
            "RECLTD.NS 2023-02-13 00:00:00\n"
          ]
        }
      ]
    },
    {
      "cell_type": "code",
      "source": [
        "ax_df.loc['RECLTD.NS']"
      ],
      "metadata": {
        "id": "d-kTDb9FjQCK",
        "outputId": "d0524eb8-6244-417b-9dcb-fd02b9ecb0cc",
        "colab": {
          "base_uri": "https://localhost:8080/",
          "height": 300
        }
      },
      "execution_count": 147,
      "outputs": [
        {
          "output_type": "execute_result",
          "data": {
            "text/plain": [
              "Date         2023-02-03  2023-02-06  2023-02-07  2023-02-08  2023-02-09  \\\n",
              "Close        118.750000  121.099998  120.599998  120.849998  117.300003   \n",
              "EMA200       105.894898  106.046193  106.191007  106.336867  106.445953   \n",
              "High         119.000000  121.500000  123.349998  121.500000  118.550003   \n",
              "KCBe_20_1.2  119.681008  119.816150  119.890802  119.982154  119.726711   \n",
              "KCLe_20_1.2  114.846467  115.127755  115.288921  115.618548  115.218686   \n",
              "KCUe_20_1.2  124.515550  124.504545  124.492683  124.345761  124.234737   \n",
              "Low          115.500000  119.000000  120.199997  119.750000  115.949997   \n",
              "Open         118.250000  119.349998  121.449997  121.250000  117.550003   \n",
              "\n",
              "Date         2023-02-10  2023-02-13  \n",
              "Close        117.000000  114.050003  \n",
              "EMA200       106.550969  106.625586  \n",
              "High         118.199997  117.250000  \n",
              "KCBe_20_1.2  119.467025  118.951118  \n",
              "KCLe_20_1.2  115.194050  114.639378  \n",
              "KCUe_20_1.2  123.739999  123.262857  \n",
              "Low          116.500000  113.349998  \n",
              "Open         117.000000  116.800003  "
            ],
            "text/html": [
              "\n",
              "  <div id=\"df-5409afcb-9013-4ad5-aa77-dfb6b03df189\">\n",
              "    <div class=\"colab-df-container\">\n",
              "      <div>\n",
              "<style scoped>\n",
              "    .dataframe tbody tr th:only-of-type {\n",
              "        vertical-align: middle;\n",
              "    }\n",
              "\n",
              "    .dataframe tbody tr th {\n",
              "        vertical-align: top;\n",
              "    }\n",
              "\n",
              "    .dataframe thead th {\n",
              "        text-align: right;\n",
              "    }\n",
              "</style>\n",
              "<table border=\"1\" class=\"dataframe\">\n",
              "  <thead>\n",
              "    <tr style=\"text-align: right;\">\n",
              "      <th>Date</th>\n",
              "      <th>2023-02-03</th>\n",
              "      <th>2023-02-06</th>\n",
              "      <th>2023-02-07</th>\n",
              "      <th>2023-02-08</th>\n",
              "      <th>2023-02-09</th>\n",
              "      <th>2023-02-10</th>\n",
              "      <th>2023-02-13</th>\n",
              "    </tr>\n",
              "  </thead>\n",
              "  <tbody>\n",
              "    <tr>\n",
              "      <th>Close</th>\n",
              "      <td>118.750000</td>\n",
              "      <td>121.099998</td>\n",
              "      <td>120.599998</td>\n",
              "      <td>120.849998</td>\n",
              "      <td>117.300003</td>\n",
              "      <td>117.000000</td>\n",
              "      <td>114.050003</td>\n",
              "    </tr>\n",
              "    <tr>\n",
              "      <th>EMA200</th>\n",
              "      <td>105.894898</td>\n",
              "      <td>106.046193</td>\n",
              "      <td>106.191007</td>\n",
              "      <td>106.336867</td>\n",
              "      <td>106.445953</td>\n",
              "      <td>106.550969</td>\n",
              "      <td>106.625586</td>\n",
              "    </tr>\n",
              "    <tr>\n",
              "      <th>High</th>\n",
              "      <td>119.000000</td>\n",
              "      <td>121.500000</td>\n",
              "      <td>123.349998</td>\n",
              "      <td>121.500000</td>\n",
              "      <td>118.550003</td>\n",
              "      <td>118.199997</td>\n",
              "      <td>117.250000</td>\n",
              "    </tr>\n",
              "    <tr>\n",
              "      <th>KCBe_20_1.2</th>\n",
              "      <td>119.681008</td>\n",
              "      <td>119.816150</td>\n",
              "      <td>119.890802</td>\n",
              "      <td>119.982154</td>\n",
              "      <td>119.726711</td>\n",
              "      <td>119.467025</td>\n",
              "      <td>118.951118</td>\n",
              "    </tr>\n",
              "    <tr>\n",
              "      <th>KCLe_20_1.2</th>\n",
              "      <td>114.846467</td>\n",
              "      <td>115.127755</td>\n",
              "      <td>115.288921</td>\n",
              "      <td>115.618548</td>\n",
              "      <td>115.218686</td>\n",
              "      <td>115.194050</td>\n",
              "      <td>114.639378</td>\n",
              "    </tr>\n",
              "    <tr>\n",
              "      <th>KCUe_20_1.2</th>\n",
              "      <td>124.515550</td>\n",
              "      <td>124.504545</td>\n",
              "      <td>124.492683</td>\n",
              "      <td>124.345761</td>\n",
              "      <td>124.234737</td>\n",
              "      <td>123.739999</td>\n",
              "      <td>123.262857</td>\n",
              "    </tr>\n",
              "    <tr>\n",
              "      <th>Low</th>\n",
              "      <td>115.500000</td>\n",
              "      <td>119.000000</td>\n",
              "      <td>120.199997</td>\n",
              "      <td>119.750000</td>\n",
              "      <td>115.949997</td>\n",
              "      <td>116.500000</td>\n",
              "      <td>113.349998</td>\n",
              "    </tr>\n",
              "    <tr>\n",
              "      <th>Open</th>\n",
              "      <td>118.250000</td>\n",
              "      <td>119.349998</td>\n",
              "      <td>121.449997</td>\n",
              "      <td>121.250000</td>\n",
              "      <td>117.550003</td>\n",
              "      <td>117.000000</td>\n",
              "      <td>116.800003</td>\n",
              "    </tr>\n",
              "  </tbody>\n",
              "</table>\n",
              "</div>\n",
              "      <button class=\"colab-df-convert\" onclick=\"convertToInteractive('df-5409afcb-9013-4ad5-aa77-dfb6b03df189')\"\n",
              "              title=\"Convert this dataframe to an interactive table.\"\n",
              "              style=\"display:none;\">\n",
              "        \n",
              "  <svg xmlns=\"http://www.w3.org/2000/svg\" height=\"24px\"viewBox=\"0 0 24 24\"\n",
              "       width=\"24px\">\n",
              "    <path d=\"M0 0h24v24H0V0z\" fill=\"none\"/>\n",
              "    <path d=\"M18.56 5.44l.94 2.06.94-2.06 2.06-.94-2.06-.94-.94-2.06-.94 2.06-2.06.94zm-11 1L8.5 8.5l.94-2.06 2.06-.94-2.06-.94L8.5 2.5l-.94 2.06-2.06.94zm10 10l.94 2.06.94-2.06 2.06-.94-2.06-.94-.94-2.06-.94 2.06-2.06.94z\"/><path d=\"M17.41 7.96l-1.37-1.37c-.4-.4-.92-.59-1.43-.59-.52 0-1.04.2-1.43.59L10.3 9.45l-7.72 7.72c-.78.78-.78 2.05 0 2.83L4 21.41c.39.39.9.59 1.41.59.51 0 1.02-.2 1.41-.59l7.78-7.78 2.81-2.81c.8-.78.8-2.07 0-2.86zM5.41 20L4 18.59l7.72-7.72 1.47 1.35L5.41 20z\"/>\n",
              "  </svg>\n",
              "      </button>\n",
              "      \n",
              "  <style>\n",
              "    .colab-df-container {\n",
              "      display:flex;\n",
              "      flex-wrap:wrap;\n",
              "      gap: 12px;\n",
              "    }\n",
              "\n",
              "    .colab-df-convert {\n",
              "      background-color: #E8F0FE;\n",
              "      border: none;\n",
              "      border-radius: 50%;\n",
              "      cursor: pointer;\n",
              "      display: none;\n",
              "      fill: #1967D2;\n",
              "      height: 32px;\n",
              "      padding: 0 0 0 0;\n",
              "      width: 32px;\n",
              "    }\n",
              "\n",
              "    .colab-df-convert:hover {\n",
              "      background-color: #E2EBFA;\n",
              "      box-shadow: 0px 1px 2px rgba(60, 64, 67, 0.3), 0px 1px 3px 1px rgba(60, 64, 67, 0.15);\n",
              "      fill: #174EA6;\n",
              "    }\n",
              "\n",
              "    [theme=dark] .colab-df-convert {\n",
              "      background-color: #3B4455;\n",
              "      fill: #D2E3FC;\n",
              "    }\n",
              "\n",
              "    [theme=dark] .colab-df-convert:hover {\n",
              "      background-color: #434B5C;\n",
              "      box-shadow: 0px 1px 3px 1px rgba(0, 0, 0, 0.15);\n",
              "      filter: drop-shadow(0px 1px 2px rgba(0, 0, 0, 0.3));\n",
              "      fill: #FFFFFF;\n",
              "    }\n",
              "  </style>\n",
              "\n",
              "      <script>\n",
              "        const buttonEl =\n",
              "          document.querySelector('#df-5409afcb-9013-4ad5-aa77-dfb6b03df189 button.colab-df-convert');\n",
              "        buttonEl.style.display =\n",
              "          google.colab.kernel.accessAllowed ? 'block' : 'none';\n",
              "\n",
              "        async function convertToInteractive(key) {\n",
              "          const element = document.querySelector('#df-5409afcb-9013-4ad5-aa77-dfb6b03df189');\n",
              "          const dataTable =\n",
              "            await google.colab.kernel.invokeFunction('convertToInteractive',\n",
              "                                                     [key], {});\n",
              "          if (!dataTable) return;\n",
              "\n",
              "          const docLinkHtml = 'Like what you see? Visit the ' +\n",
              "            '<a target=\"_blank\" href=https://colab.research.google.com/notebooks/data_table.ipynb>data table notebook</a>'\n",
              "            + ' to learn more about interactive tables.';\n",
              "          element.innerHTML = '';\n",
              "          dataTable['output_type'] = 'display_data';\n",
              "          await google.colab.output.renderOutput(dataTable, element);\n",
              "          const docLink = document.createElement('div');\n",
              "          docLink.innerHTML = docLinkHtml;\n",
              "          element.appendChild(docLink);\n",
              "        }\n",
              "      </script>\n",
              "    </div>\n",
              "  </div>\n",
              "  "
            ]
          },
          "metadata": {},
          "execution_count": 147
        }
      ]
    }
  ],
  "metadata": {
    "colab": {
      "name": "Welcome To Colaboratory",
      "provenance": [],
      "include_colab_link": true
    },
    "kernelspec": {
      "display_name": "Python 3",
      "name": "python3"
    }
  },
  "nbformat": 4,
  "nbformat_minor": 0
}