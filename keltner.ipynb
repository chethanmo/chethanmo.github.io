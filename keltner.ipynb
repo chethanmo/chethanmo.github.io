{
  "cells": [
    {
      "cell_type": "markdown",
      "metadata": {
        "id": "view-in-github",
        "colab_type": "text"
      },
      "source": [
        "<a href=\"https://colab.research.google.com/github/chethanmo/chethanmo.github.io/blob/master/keltner.ipynb\" target=\"_parent\"><img src=\"https://colab.research.google.com/assets/colab-badge.svg\" alt=\"Open In Colab\"/></a>"
      ]
    },
    {
      "cell_type": "code",
      "source": [
        "!pip install pandas pandas-ta matplotlib yfinance\n",
        "!pip install --upgrade pandas-datareader\n"
      ],
      "metadata": {
        "id": "7JOvPnlrzahu"
      },
      "execution_count": null,
      "outputs": []
    },
    {
      "cell_type": "code",
      "source": [
        "import pandas as pd\n",
        "import pandas_ta as ta\n",
        "import yfinance as yf\n",
        "from datetime import date as date\n",
        "from dateutil.relativedelta import relativedelta\n",
        "import matplotlib.pyplot as plt\n"
      ],
      "metadata": {
        "id": "ndoVilSVz5eW"
      },
      "execution_count": 138,
      "outputs": []
    },
    {
      "cell_type": "code",
      "source": [
        "file_path = '/content/EQUITY_L.csv'\n",
        "fields = ['SYMBOL']\n",
        "tickers = pd.read_csv(file_path, usecols=fields)"
      ],
      "metadata": {
        "id": "DoKZJAaS0Rhf"
      },
      "execution_count": 139,
      "outputs": []
    },
    {
      "cell_type": "code",
      "source": [
        "from concurrent.futures import ThreadPoolExecutor\n",
        "\n",
        "ath_list = []\n",
        "for i in range(0,len(tickers)):\n",
        "  ath_list.append(tickers['SYMBOL'][i] +'.NS')\n",
        "\n",
        "unwanted = {'INDO-RE.NS','CDSL.NS','HERIT-RE.NS','ZODIAC.NS','EMAMIPAP.NS','DIGJAMLMTD.NS','GUJRAFFIA.NS','NIRAJISPAT.NS','KALYANI.NS','ARTEMISMED.NS'}\n",
        "ath_list = [e for e in ath_list if e not in unwanted]\n",
        "\n",
        "#print (ath_list)\n",
        "\n",
        "def get_stats(ticker):\n",
        "    info = yf.Tickers(ticker).tickers[ticker].fast_info\n",
        "    return ticker, info['last_price'], info['year_high'], info['two_hundred_day_average']\n",
        "def paralel_func(ticker):\n",
        "    with ThreadPoolExecutor(max_workers=None) as executor:\n",
        "        results = list(executor.map(get_stats, ticker))\n",
        "    return results\n",
        "\n",
        "results = paralel_func(ath_list)"
      ],
      "metadata": {
        "id": "N5dWnDKO0bCn"
      },
      "execution_count": 140,
      "outputs": []
    },
    {
      "cell_type": "code",
      "source": [
        "ticker_list = pd.DataFrame(results, columns=['Ticker', 'Last_price', 'ATH', 'two_EMA']) #creating the dataframe\n",
        "\n",
        "#pd.set_option('display.max_rows', None)\n",
        "\n",
        "ticker_list = ticker_list.query('Last_price > ATH * 0.9 and Last_price > two_EMA and Last_price < 200')\n",
        "ticker_list.reset_index(drop=True, inplace=True)"
      ],
      "metadata": {
        "id": "2Vpea9sB1YxI"
      },
      "execution_count": 141,
      "outputs": []
    },
    {
      "cell_type": "code",
      "source": [
        "#******* 1D *******\n",
        "startdate = date.today() - relativedelta(years=4)\n",
        "enddate = date.today() + relativedelta(days=1)\n",
        "\n",
        "x = ticker_list['Ticker'].to_string(header=False,index=False).split('\\n')\n",
        "tickers = [','.join(ele.split()) for ele in x]\n",
        "\n",
        "df_1d = yf.download(tickers, start= startdate, end= enddate)\n",
        "\n",
        "#******* 1h *******\n",
        "startdate = date.today() - relativedelta(days=729)\n",
        "enddate = date.today() + relativedelta(days=1)\n",
        "\n",
        "x = ticker_list['Ticker'].to_string(header=False,index=False).split('\\n')\n",
        "tickers = [','.join(ele.split()) for ele in x]\n",
        "\n",
        "df_1h = yf.download(tickers, start= startdate, end= enddate, interval ='1h')\n",
        "\n",
        "#******* 15m *******\n",
        "startdate = date.today() - relativedelta(days=59)\n",
        "enddate = date.today() + relativedelta(days=1)\n",
        "\n",
        "x = ticker_list['Ticker'].to_string(header=False,index=False).split('\\n')\n",
        "tickers = [','.join(ele.split()) for ele in x]\n",
        "\n",
        "df_15m = yf.download(tickers, start= startdate, end= enddate, interval ='15m')"
      ],
      "metadata": {
        "colab": {
          "base_uri": "https://localhost:8080/"
        },
        "id": "5Av-v3Kw4G15",
        "outputId": "211b1bed-ff81-444d-e0e5-91011d876c34"
      },
      "execution_count": 142,
      "outputs": [
        {
          "output_type": "stream",
          "name": "stdout",
          "text": [
            "[*********************100%***********************]  36 of 36 completed\n",
            "[*********************100%***********************]  36 of 36 completed\n",
            "[*********************100%***********************]  36 of 36 completed\n"
          ]
        }
      ]
    },
    {
      "cell_type": "code",
      "source": [
        "pd.set_option('display.max_rows', 10)\n",
        "#df"
      ],
      "metadata": {
        "id": "2u3tF7yg7Zk3"
      },
      "execution_count": 143,
      "outputs": []
    },
    {
      "cell_type": "code",
      "source": [
        "from time import strftime\n",
        "import datetime\n",
        "prev_day = (date.today() - datetime.timedelta(days=1)).strftime('%Y-%m-%d')\n",
        "to_day = date.today().strftime('%Y-%m-%d')"
      ],
      "metadata": {
        "id": "P4gCSkIbU1Cd"
      },
      "execution_count": 144,
      "outputs": []
    },
    {
      "cell_type": "code",
      "source": [
        "def setup_func(data):\n",
        "  ax_df1 = data.copy()\n",
        "  df1 = pd.DataFrame()\n",
        "\n",
        "  for ticker in tickers:\n",
        "    test = ta.kc(close=ax_df1[('Close', ticker)], high=ax_df1[('High', ticker)], low=ax_df1[('Low', ticker)], length=20, scalar=1.2, mamode='ema', tr=True)\n",
        "    test1 = ta.ema(close=ax_df1[('Close', ticker)], length=200).to_frame('EMA200')\n",
        "    test.columns = pd.MultiIndex.from_product([test.columns, [ticker]])\n",
        "    test1.columns = pd.MultiIndex.from_product([test1.columns, [ticker]])\n",
        "    df1 = pd.concat([df1, test, test1], axis=1)\n",
        "    df1.sort_index()\n",
        "    \n",
        "  ax_df1 = pd.concat([ax_df1, df1], axis=1)\n",
        "  ax_df1.reset_index()\n",
        "  ax_df1 = ax_df1.drop(['Adj Close','Volume'], level=0, axis=1)\n",
        "\n",
        "  ax_df1= ax_df1.swaplevel(0, 1, 1).sort_index(axis=1)\n",
        "  ax_df1 = ax_df1.tail(7)\n",
        "  ax_df1 = ax_df1.T\n",
        "\n",
        "  return ax_df1"
      ],
      "metadata": {
        "id": "7YFnD5b0EWQD"
      },
      "execution_count": 145,
      "outputs": []
    },
    {
      "cell_type": "code",
      "source": [
        "ax_df_1d = setup_func(df_1d)\n",
        "ax_df_1h = setup_func(df_1h)\n",
        "ax_df_15m = setup_func(df_15m)"
      ],
      "metadata": {
        "id": "vxnIql6NFalU"
      },
      "execution_count": 146,
      "outputs": []
    },
    {
      "cell_type": "code",
      "source": [
        "def keltner_stocks(data):\n",
        "  count = 0\n",
        "  for ticker in tickers:\n",
        "    for column in data.columns:\n",
        "      if (data.loc[(ticker,'EMA200'), data.columns[6]] - data.loc[(ticker,'EMA200'), data.columns[0]] > 0) and (data.loc[(ticker,'EMA200'), data.columns[6]] - data.loc[(ticker,'EMA200'), data.columns[5]] > 0):\n",
        "        if data.loc[(ticker,'Close'), column] < data.loc[(ticker,'KCLe_20_1.2'), column]:\n",
        "          if column.strftime('%Y-%m-%d') == to_day:\n",
        "            print(ticker,column)\n",
        "            #print(data.loc[ticker])\n",
        "            print('\\n')\n",
        "            count+=1\n",
        "  print('Keltner stocks: ', count)"
      ],
      "metadata": {
        "id": "K1ff9ev6__k5"
      },
      "execution_count": 147,
      "outputs": []
    },
    {
      "cell_type": "code",
      "source": [
        "keltner_stocks(ax_df_1d)"
      ],
      "metadata": {
        "id": "CVEZ8ha6TNad",
        "outputId": "d285b2f2-4b3a-4c45-d731-ce34bb25eff0",
        "colab": {
          "base_uri": "https://localhost:8080/"
        }
      },
      "execution_count": 148,
      "outputs": [
        {
          "output_type": "stream",
          "name": "stdout",
          "text": [
            "RECLTD.NS 2023-02-14 00:00:00\n",
            "\n",
            "\n",
            "Keltner stocks:  1\n"
          ]
        }
      ]
    },
    {
      "cell_type": "code",
      "source": [
        "keltner_stocks(ax_df_1h)\n"
      ],
      "metadata": {
        "colab": {
          "base_uri": "https://localhost:8080/"
        },
        "id": "d-kTDb9FjQCK",
        "outputId": "3ae3cd0c-bebc-4f27-f6e3-5ca73e295ad4"
      },
      "execution_count": 149,
      "outputs": [
        {
          "output_type": "stream",
          "name": "stdout",
          "text": [
            "ISMTLTD.NS 2023-02-14 09:15:00+05:30\n",
            "\n",
            "\n",
            "L&TFH.NS 2023-02-14 09:15:00+05:30\n",
            "\n",
            "\n",
            "L&TFH.NS 2023-02-14 10:15:00+05:30\n",
            "\n",
            "\n",
            "SAKSOFT.NS 2023-02-14 10:15:00+05:30\n",
            "\n",
            "\n",
            "SAKSOFT.NS 2023-02-14 12:15:00+05:30\n",
            "\n",
            "\n",
            "SAKSOFT.NS 2023-02-14 13:15:00+05:30\n",
            "\n",
            "\n",
            "SUNFLAG.NS 2023-02-14 09:15:00+05:30\n",
            "\n",
            "\n",
            "Keltner stocks:  7\n"
          ]
        }
      ]
    },
    {
      "cell_type": "code",
      "source": [
        "keltner_stocks(ax_df_15m)"
      ],
      "metadata": {
        "id": "DvFVMzKuNGxc",
        "outputId": "9b873d1e-ac39-4ce8-a1dd-4496e6ef3b80",
        "colab": {
          "base_uri": "https://localhost:8080/"
        }
      },
      "execution_count": 150,
      "outputs": [
        {
          "output_type": "stream",
          "name": "stdout",
          "text": [
            "FINPIPE.NS 2023-02-14 15:15:00\n",
            "\n",
            "\n",
            "JINDALSAW.NS 2023-02-14 14:15:00\n",
            "\n",
            "\n",
            "JINDALSAW.NS 2023-02-14 14:30:00\n",
            "\n",
            "\n",
            "MANAKSIA.NS 2023-02-14 15:00:00\n",
            "\n",
            "\n",
            "MANAKSIA.NS 2023-02-14 15:15:00\n",
            "\n",
            "\n",
            "MANOMAY.NS 2023-02-14 13:45:00\n",
            "\n",
            "\n",
            "MANOMAY.NS 2023-02-14 14:00:00\n",
            "\n",
            "\n",
            "MANOMAY.NS 2023-02-14 14:15:00\n",
            "\n",
            "\n",
            "MANOMAY.NS 2023-02-14 15:00:00\n",
            "\n",
            "\n",
            "MANOMAY.NS 2023-02-14 15:15:00\n",
            "\n",
            "\n",
            "Keltner stocks:  10\n"
          ]
        }
      ]
    }
  ],
  "metadata": {
    "colab": {
      "name": "Welcome To Colaboratory",
      "provenance": [],
      "include_colab_link": true
    },
    "kernelspec": {
      "display_name": "Python 3",
      "name": "python3"
    }
  },
  "nbformat": 4,
  "nbformat_minor": 0
}