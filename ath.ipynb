{
  "cells": [
    {
      "cell_type": "markdown",
      "metadata": {
        "id": "view-in-github",
        "colab_type": "text"
      },
      "source": [
        "<a href=\"https://colab.research.google.com/github/chethanmo/chethanmo.github.io/blob/master/ath.ipynb\" target=\"_parent\"><img src=\"https://colab.research.google.com/assets/colab-badge.svg\" alt=\"Open In Colab\"/></a>"
      ]
    },
    {
      "cell_type": "code",
      "source": [
        "!pip install pandas pandas-ta numpy matplotlib yfinance\n",
        "!pip install --upgrade pandas-datareader"
      ],
      "metadata": {
        "id": "kPz2L1AHBLsM"
      },
      "execution_count": null,
      "outputs": []
    },
    {
      "cell_type": "code",
      "source": [
        "import pandas_ta as ta\n",
        "import pandas as pd\n",
        "import matplotlib.pyplot as plt\n",
        "import math as math\n",
        "import yfinance as yf\n",
        "from dateutil.relativedelta import relativedelta\n",
        "from datetime import date as date\n"
      ],
      "metadata": {
        "id": "BW-R4XHD6EpE"
      },
      "execution_count": 2,
      "outputs": []
    },
    {
      "cell_type": "code",
      "source": [
        "# enddate = date.today()\n",
        "# startdate = enddate - relativedelta(years=4)\n",
        "\n",
        "# df = yf.download('HINDZINC.NS', start=startdate, end=enddate)\n"
      ],
      "metadata": {
        "id": "CI8toV62JjtZ"
      },
      "execution_count": 3,
      "outputs": []
    },
    {
      "cell_type": "code",
      "source": [
        "#ticker_yahoo = yf.Ticker('HINDZINC.NS')\n",
        "# last_quote = ticker_yahoo.fast_info['last_price']\n",
        "# MA200 = ticker_yahoo.fast_info['two_hundred_day_average']\n",
        "# ticker_yahoo.fast_info\n",
        "\n",
        "file_path = '/content/EQUITY_L.csv'\n",
        "fields = ['SYMBOL']\n",
        "tickers = pd.read_csv(file_path, usecols=fields)\n",
        "#print(tickers)"
      ],
      "metadata": {
        "id": "lHNlAhtBcNZB"
      },
      "execution_count": 4,
      "outputs": []
    },
    {
      "cell_type": "code",
      "source": [
        "##lazy-loading dict with keys = ['currency', 'exchange', 'timezone', 'shares', 'market_cap', 'last_price', 'previous_close', 'open', 'day_high', 'day_low', 'regular_market_previous_close', 'last_volume', 'fifty_day_average', 'two_hundred_day_average', 'ten_day_average_volume', 'three_month_average_volume', 'year_high', 'year_low', 'year_change']"
      ],
      "metadata": {
        "id": "A01IRE5TdoRz"
      },
      "execution_count": null,
      "outputs": []
    },
    {
      "cell_type": "code",
      "source": [
        "from concurrent.futures import ThreadPoolExecutor\n",
        "\n",
        "ath_list = []\n",
        "for i in range(0,len(tickers)):\n",
        "  ath_list.append(tickers['SYMBOL'][i] +'.NS')\n",
        "  \n",
        "\n",
        "\n",
        "def get_stats(ticker):\n",
        "    info = yf.Tickers(ticker).tickers[ticker].fast_info\n",
        "    #print(f\"{ticker} {info['last_price']} {info['year_high']}\")\n",
        "    return ticker, info['last_price'], info['year_high'], info['two_hundred_day_average']\n",
        "def paralel_func(ticker):\n",
        "    with ThreadPoolExecutor(max_workers=None) as executor:\n",
        "        results = list(executor.map(get_stats, ath_list))\n",
        "    return results\n",
        "\n",
        "results = paralel_func(ath_list)\n"
      ],
      "metadata": {
        "id": "W36q1QS8jThm"
      },
      "execution_count": 6,
      "outputs": []
    },
    {
      "cell_type": "code",
      "source": [
        "ticker_list = pd.DataFrame(results, columns=['Ticker', 'Last_price', 'ATH', 'two_EMA']) #creating the dataframe\n",
        "\n",
        "pd.set_option('display.max_rows', None)\n",
        "#ticker_list = ticker_list.loc[(ticker_list['Last_price'] < ticker_list['ATH'] * 0.95) & (ticker_list['Last_price'] > ticker_list['ATH'] * 0.9) & (ticker_list['Last_price'] > ticker_list['two_EMA'])]\n",
        "\n",
        "ticker_list = ticker_list.query('Last_price < ATH * 0.95 and Last_price > ATH * 0.9 and Last_price > two_EMA')\n",
        "ticker_list.reset_index(drop=True, inplace=True)\n",
        "ticker_list\n",
        "#ticker_list.to_csv('Watchlist.csv', index=False)\n"
      ],
      "metadata": {
        "id": "1Qb2vM2a7MEG"
      },
      "execution_count": null,
      "outputs": []
    },
    {
      "cell_type": "code",
      "source": [
        "startdate = date.today() - relativedelta(years=4)\n",
        "enddate = date.today()\n",
        "\n",
        "x = ticker_list['Ticker'].to_string(header=False,index=False).split('\\n')\n",
        "tickers = [','.join(ele.split()) for ele in x]\n",
        "#tickers\n",
        "df = yf.download(tickers, start= startdate, end= enddate)\n"
      ],
      "metadata": {
        "colab": {
          "base_uri": "https://localhost:8080/"
        },
        "id": "VGHHoLmxXT1D",
        "outputId": "0eefba06-9c76-4012-ff7e-683d4257623f"
      },
      "execution_count": 58,
      "outputs": [
        {
          "output_type": "stream",
          "name": "stdout",
          "text": [
            "[*********************100%***********************]  101 of 101 completed\n"
          ]
        }
      ]
    },
    {
      "cell_type": "code",
      "source": [
        "# df.ta.supertrend(high='High', low='Low', close='Close', length=10, multiplier=1, append=True)\n",
        "# df.to_csv('data1.csv')\n",
        "#tickers\n",
        "help(ta.supertrend)"
      ],
      "metadata": {
        "colab": {
          "base_uri": "https://localhost:8080/"
        },
        "id": "7WJnE0tLf4JZ",
        "outputId": "80788c53-e98d-4cc9-8b8c-77eec19c7514"
      },
      "execution_count": 88,
      "outputs": [
        {
          "output_type": "stream",
          "name": "stdout",
          "text": [
            "Help on function supertrend in module pandas_ta.overlap.supertrend:\n",
            "\n",
            "supertrend(high, low, close, length=None, multiplier=None, offset=None, **kwargs)\n",
            "    Supertrend (supertrend)\n",
            "    \n",
            "    Supertrend is an overlap indicator. It is used to help identify trend\n",
            "    direction, setting stop loss, identify support and resistance, and/or\n",
            "    generate buy & sell signals.\n",
            "    \n",
            "    Sources:\n",
            "        http://www.freebsensetips.com/blog/detail/7/What-is-supertrend-indicator-its-calculation\n",
            "    \n",
            "    Calculation:\n",
            "        Default Inputs:\n",
            "            length=7, multiplier=3.0\n",
            "        Default Direction:\n",
            "            Set to +1 or bullish trend at start\n",
            "    \n",
            "        MID = multiplier * ATR\n",
            "        LOWERBAND = HL2 - MID\n",
            "        UPPERBAND = HL2 + MID\n",
            "    \n",
            "        if UPPERBAND[i] < FINAL_UPPERBAND[i-1] and close[i-1] > FINAL_UPPERBAND[i-1]:\n",
            "            FINAL_UPPERBAND[i] = UPPERBAND[i]\n",
            "        else:\n",
            "            FINAL_UPPERBAND[i] = FINAL_UPPERBAND[i-1])\n",
            "    \n",
            "        if LOWERBAND[i] > FINAL_LOWERBAND[i-1] and close[i-1] < FINAL_LOWERBAND[i-1]:\n",
            "            FINAL_LOWERBAND[i] = LOWERBAND[i]\n",
            "        else:\n",
            "            FINAL_LOWERBAND[i] = FINAL_LOWERBAND[i-1])\n",
            "    \n",
            "        if close[i] <= FINAL_UPPERBAND[i]:\n",
            "            SUPERTREND[i] = FINAL_UPPERBAND[i]\n",
            "        else:\n",
            "            SUPERTREND[i] = FINAL_LOWERBAND[i]\n",
            "    \n",
            "    Args:\n",
            "        high (pd.Series): Series of 'high's\n",
            "        low (pd.Series): Series of 'low's\n",
            "        close (pd.Series): Series of 'close's\n",
            "        length (int) : length for ATR calculation. Default: 7\n",
            "        multiplier (float): Coefficient for upper and lower band distance to\n",
            "            midrange. Default: 3.0\n",
            "        offset (int): How many periods to offset the result. Default: 0\n",
            "    \n",
            "    Kwargs:\n",
            "        fillna (value, optional): pd.DataFrame.fillna(value)\n",
            "        fill_method (value, optional): Type of fill method\n",
            "    \n",
            "    Returns:\n",
            "        pd.DataFrame: SUPERT (trend), SUPERTd (direction), SUPERTl (long), SUPERTs (short) columns.\n",
            "\n"
          ]
        }
      ]
    },
    {
      "cell_type": "code",
      "source": [
        "technicals =['supertrend10','supertrend11','supertrend12']\n",
        "pd.set_option('display.max_rows', 10)\n",
        "\n",
        "# for t in technicals:\n",
        "#   print(t[10:])\n",
        "  \n",
        "\n",
        "#df[('Close', 'ABBOTINDIA.NS' )]\n",
        "\n",
        "for ticker in tickers:\n",
        "  #df[('EMA_200',ticker)] = ta.ema(df.loc[:,('Close', ticker)], length=200)\n",
        "  for t in technicals:\n",
        "    if t[:10] == 'supertrend':\n",
        "      if int(t[10:]) == 10:\n",
        "        df[(t,ticker)] = ta.supertrend(close=df[('Close', ticker)], high=df[('High', ticker)], low=df[('Low', ticker)], length=10, multiplier=1)\n",
        "        #df.ta.supertrend(close=df[('Close', ticker)], high=df[('High', ticker)], low=df[('Low', ticker)], length=10, multiplier=1, append= True)\n",
        "      elif int(t[10:]) == 11:\n",
        "        df[(t,ticker)] = ta.supertrend(close=df[('Close', ticker)], high=df[('High', ticker)], low=df[('Low', ticker)], length=11, multiplier=2)\n",
        "      elif int(t[10:]) == 12:\n",
        "        df[(t,ticker)] = ta.supertrend(close=df[('Close', ticker)], high=df[('High', ticker)], low=df[('Low', ticker)], length=12, multiplier=3)\n",
        "    \n"
      ],
      "metadata": {
        "colab": {
          "base_uri": "https://localhost:8080/",
          "height": 502
        },
        "id": "SCLstZLewbQd",
        "outputId": "b33429d8-279d-4ee4-9667-50f3207e7663"
      },
      "execution_count": 87,
      "outputs": [
        {
          "output_type": "error",
          "ename": "KeyError",
          "evalue": "ignored",
          "traceback": [
            "\u001b[0;31m---------------------------------------------------------------------------\u001b[0m",
            "\u001b[0;31mKeyError\u001b[0m                                  Traceback (most recent call last)",
            "\u001b[0;32m/usr/local/lib/python3.8/dist-packages/pandas/core/indexes/base.py\u001b[0m in \u001b[0;36mget_loc\u001b[0;34m(self, key, method, tolerance)\u001b[0m\n\u001b[1;32m   3360\u001b[0m             \u001b[0;32mtry\u001b[0m\u001b[0;34m:\u001b[0m\u001b[0;34m\u001b[0m\u001b[0;34m\u001b[0m\u001b[0m\n\u001b[0;32m-> 3361\u001b[0;31m                 \u001b[0;32mreturn\u001b[0m \u001b[0mself\u001b[0m\u001b[0;34m.\u001b[0m\u001b[0m_engine\u001b[0m\u001b[0;34m.\u001b[0m\u001b[0mget_loc\u001b[0m\u001b[0;34m(\u001b[0m\u001b[0mcasted_key\u001b[0m\u001b[0;34m)\u001b[0m\u001b[0;34m\u001b[0m\u001b[0;34m\u001b[0m\u001b[0m\n\u001b[0m\u001b[1;32m   3362\u001b[0m             \u001b[0;32mexcept\u001b[0m \u001b[0mKeyError\u001b[0m \u001b[0;32mas\u001b[0m \u001b[0merr\u001b[0m\u001b[0;34m:\u001b[0m\u001b[0;34m\u001b[0m\u001b[0;34m\u001b[0m\u001b[0m\n",
            "\u001b[0;32m/usr/local/lib/python3.8/dist-packages/pandas/_libs/index.pyx\u001b[0m in \u001b[0;36mpandas._libs.index.IndexEngine.get_loc\u001b[0;34m()\u001b[0m\n",
            "\u001b[0;32m/usr/local/lib/python3.8/dist-packages/pandas/_libs/index.pyx\u001b[0m in \u001b[0;36mpandas._libs.index.IndexEngine.get_loc\u001b[0;34m()\u001b[0m\n",
            "\u001b[0;32mpandas/_libs/hashtable_class_helper.pxi\u001b[0m in \u001b[0;36mpandas._libs.hashtable.PyObjectHashTable.get_item\u001b[0;34m()\u001b[0m\n",
            "\u001b[0;32mpandas/_libs/hashtable_class_helper.pxi\u001b[0m in \u001b[0;36mpandas._libs.hashtable.PyObjectHashTable.get_item\u001b[0;34m()\u001b[0m\n",
            "\u001b[0;31mKeyError\u001b[0m: ('Close', 'ABBOTINDIA.NS')",
            "\nThe above exception was the direct cause of the following exception:\n",
            "\u001b[0;31mKeyError\u001b[0m                                  Traceback (most recent call last)",
            "\u001b[0;32m<ipython-input-87-353c5508d5cb>\u001b[0m in \u001b[0;36m<module>\u001b[0;34m\u001b[0m\n\u001b[1;32m     16\u001b[0m         \u001b[0;31m#df.ta.supertrend(close=df[('Close', ticker)], high=df[('High', ticker)], low=df[('Low', ticker)], length=10, multiplier=1, append= True)\u001b[0m\u001b[0;34m\u001b[0m\u001b[0;34m\u001b[0m\u001b[0;34m\u001b[0m\u001b[0m\n\u001b[1;32m     17\u001b[0m       \u001b[0;32melif\u001b[0m \u001b[0mint\u001b[0m\u001b[0;34m(\u001b[0m\u001b[0mt\u001b[0m\u001b[0;34m[\u001b[0m\u001b[0;36m10\u001b[0m\u001b[0;34m:\u001b[0m\u001b[0;34m]\u001b[0m\u001b[0;34m)\u001b[0m \u001b[0;34m==\u001b[0m \u001b[0;36m11\u001b[0m\u001b[0;34m:\u001b[0m\u001b[0;34m\u001b[0m\u001b[0;34m\u001b[0m\u001b[0m\n\u001b[0;32m---> 18\u001b[0;31m         \u001b[0mdf\u001b[0m \u001b[0;34m=\u001b[0m \u001b[0mta\u001b[0m\u001b[0;34m.\u001b[0m\u001b[0msupertrend\u001b[0m\u001b[0;34m(\u001b[0m\u001b[0mclose\u001b[0m\u001b[0;34m=\u001b[0m\u001b[0mdf\u001b[0m\u001b[0;34m[\u001b[0m\u001b[0;34m(\u001b[0m\u001b[0;34m'Close'\u001b[0m\u001b[0;34m,\u001b[0m \u001b[0mticker\u001b[0m\u001b[0;34m)\u001b[0m\u001b[0;34m]\u001b[0m\u001b[0;34m,\u001b[0m \u001b[0mhigh\u001b[0m\u001b[0;34m=\u001b[0m\u001b[0mdf\u001b[0m\u001b[0;34m[\u001b[0m\u001b[0;34m(\u001b[0m\u001b[0;34m'High'\u001b[0m\u001b[0;34m,\u001b[0m \u001b[0mticker\u001b[0m\u001b[0;34m)\u001b[0m\u001b[0;34m]\u001b[0m\u001b[0;34m,\u001b[0m \u001b[0mlow\u001b[0m\u001b[0;34m=\u001b[0m\u001b[0mdf\u001b[0m\u001b[0;34m[\u001b[0m\u001b[0;34m(\u001b[0m\u001b[0;34m'Low'\u001b[0m\u001b[0;34m,\u001b[0m \u001b[0mticker\u001b[0m\u001b[0;34m)\u001b[0m\u001b[0;34m]\u001b[0m\u001b[0;34m,\u001b[0m \u001b[0mlength\u001b[0m\u001b[0;34m=\u001b[0m\u001b[0;36m11\u001b[0m\u001b[0;34m,\u001b[0m \u001b[0mmultiplier\u001b[0m\u001b[0;34m=\u001b[0m\u001b[0;36m2\u001b[0m\u001b[0;34m)\u001b[0m\u001b[0;34m\u001b[0m\u001b[0;34m\u001b[0m\u001b[0m\n\u001b[0m\u001b[1;32m     19\u001b[0m       \u001b[0;32melif\u001b[0m \u001b[0mint\u001b[0m\u001b[0;34m(\u001b[0m\u001b[0mt\u001b[0m\u001b[0;34m[\u001b[0m\u001b[0;36m10\u001b[0m\u001b[0;34m:\u001b[0m\u001b[0;34m]\u001b[0m\u001b[0;34m)\u001b[0m \u001b[0;34m==\u001b[0m \u001b[0;36m12\u001b[0m\u001b[0;34m:\u001b[0m\u001b[0;34m\u001b[0m\u001b[0;34m\u001b[0m\u001b[0m\n\u001b[1;32m     20\u001b[0m         \u001b[0mdf\u001b[0m \u001b[0;34m=\u001b[0m \u001b[0mta\u001b[0m\u001b[0;34m.\u001b[0m\u001b[0msupertrend\u001b[0m\u001b[0;34m(\u001b[0m\u001b[0mclose\u001b[0m\u001b[0;34m=\u001b[0m\u001b[0mdf\u001b[0m\u001b[0;34m[\u001b[0m\u001b[0;34m(\u001b[0m\u001b[0;34m'Close'\u001b[0m\u001b[0;34m,\u001b[0m \u001b[0mticker\u001b[0m\u001b[0;34m)\u001b[0m\u001b[0;34m]\u001b[0m\u001b[0;34m,\u001b[0m \u001b[0mhigh\u001b[0m\u001b[0;34m=\u001b[0m\u001b[0mdf\u001b[0m\u001b[0;34m[\u001b[0m\u001b[0;34m(\u001b[0m\u001b[0;34m'High'\u001b[0m\u001b[0;34m,\u001b[0m \u001b[0mticker\u001b[0m\u001b[0;34m)\u001b[0m\u001b[0;34m]\u001b[0m\u001b[0;34m,\u001b[0m \u001b[0mlow\u001b[0m\u001b[0;34m=\u001b[0m\u001b[0mdf\u001b[0m\u001b[0;34m[\u001b[0m\u001b[0;34m(\u001b[0m\u001b[0;34m'Low'\u001b[0m\u001b[0;34m,\u001b[0m \u001b[0mticker\u001b[0m\u001b[0;34m)\u001b[0m\u001b[0;34m]\u001b[0m\u001b[0;34m,\u001b[0m \u001b[0mlength\u001b[0m\u001b[0;34m=\u001b[0m\u001b[0;36m12\u001b[0m\u001b[0;34m,\u001b[0m \u001b[0mmultiplier\u001b[0m\u001b[0;34m=\u001b[0m\u001b[0;36m3\u001b[0m\u001b[0;34m)\u001b[0m\u001b[0;34m\u001b[0m\u001b[0;34m\u001b[0m\u001b[0m\n",
            "\u001b[0;32m/usr/local/lib/python3.8/dist-packages/pandas/core/frame.py\u001b[0m in \u001b[0;36m__getitem__\u001b[0;34m(self, key)\u001b[0m\n\u001b[1;32m   3456\u001b[0m             \u001b[0;32mif\u001b[0m \u001b[0mself\u001b[0m\u001b[0;34m.\u001b[0m\u001b[0mcolumns\u001b[0m\u001b[0;34m.\u001b[0m\u001b[0mnlevels\u001b[0m \u001b[0;34m>\u001b[0m \u001b[0;36m1\u001b[0m\u001b[0;34m:\u001b[0m\u001b[0;34m\u001b[0m\u001b[0;34m\u001b[0m\u001b[0m\n\u001b[1;32m   3457\u001b[0m                 \u001b[0;32mreturn\u001b[0m \u001b[0mself\u001b[0m\u001b[0;34m.\u001b[0m\u001b[0m_getitem_multilevel\u001b[0m\u001b[0;34m(\u001b[0m\u001b[0mkey\u001b[0m\u001b[0;34m)\u001b[0m\u001b[0;34m\u001b[0m\u001b[0;34m\u001b[0m\u001b[0m\n\u001b[0;32m-> 3458\u001b[0;31m             \u001b[0mindexer\u001b[0m \u001b[0;34m=\u001b[0m \u001b[0mself\u001b[0m\u001b[0;34m.\u001b[0m\u001b[0mcolumns\u001b[0m\u001b[0;34m.\u001b[0m\u001b[0mget_loc\u001b[0m\u001b[0;34m(\u001b[0m\u001b[0mkey\u001b[0m\u001b[0;34m)\u001b[0m\u001b[0;34m\u001b[0m\u001b[0;34m\u001b[0m\u001b[0m\n\u001b[0m\u001b[1;32m   3459\u001b[0m             \u001b[0;32mif\u001b[0m \u001b[0mis_integer\u001b[0m\u001b[0;34m(\u001b[0m\u001b[0mindexer\u001b[0m\u001b[0;34m)\u001b[0m\u001b[0;34m:\u001b[0m\u001b[0;34m\u001b[0m\u001b[0;34m\u001b[0m\u001b[0m\n\u001b[1;32m   3460\u001b[0m                 \u001b[0mindexer\u001b[0m \u001b[0;34m=\u001b[0m \u001b[0;34m[\u001b[0m\u001b[0mindexer\u001b[0m\u001b[0;34m]\u001b[0m\u001b[0;34m\u001b[0m\u001b[0;34m\u001b[0m\u001b[0m\n",
            "\u001b[0;32m/usr/local/lib/python3.8/dist-packages/pandas/core/indexes/base.py\u001b[0m in \u001b[0;36mget_loc\u001b[0;34m(self, key, method, tolerance)\u001b[0m\n\u001b[1;32m   3361\u001b[0m                 \u001b[0;32mreturn\u001b[0m \u001b[0mself\u001b[0m\u001b[0;34m.\u001b[0m\u001b[0m_engine\u001b[0m\u001b[0;34m.\u001b[0m\u001b[0mget_loc\u001b[0m\u001b[0;34m(\u001b[0m\u001b[0mcasted_key\u001b[0m\u001b[0;34m)\u001b[0m\u001b[0;34m\u001b[0m\u001b[0;34m\u001b[0m\u001b[0m\n\u001b[1;32m   3362\u001b[0m             \u001b[0;32mexcept\u001b[0m \u001b[0mKeyError\u001b[0m \u001b[0;32mas\u001b[0m \u001b[0merr\u001b[0m\u001b[0;34m:\u001b[0m\u001b[0;34m\u001b[0m\u001b[0;34m\u001b[0m\u001b[0m\n\u001b[0;32m-> 3363\u001b[0;31m                 \u001b[0;32mraise\u001b[0m \u001b[0mKeyError\u001b[0m\u001b[0;34m(\u001b[0m\u001b[0mkey\u001b[0m\u001b[0;34m)\u001b[0m \u001b[0;32mfrom\u001b[0m \u001b[0merr\u001b[0m\u001b[0;34m\u001b[0m\u001b[0;34m\u001b[0m\u001b[0m\n\u001b[0m\u001b[1;32m   3364\u001b[0m \u001b[0;34m\u001b[0m\u001b[0m\n\u001b[1;32m   3365\u001b[0m         \u001b[0;32mif\u001b[0m \u001b[0mis_scalar\u001b[0m\u001b[0;34m(\u001b[0m\u001b[0mkey\u001b[0m\u001b[0;34m)\u001b[0m \u001b[0;32mand\u001b[0m \u001b[0misna\u001b[0m\u001b[0;34m(\u001b[0m\u001b[0mkey\u001b[0m\u001b[0;34m)\u001b[0m \u001b[0;32mand\u001b[0m \u001b[0;32mnot\u001b[0m \u001b[0mself\u001b[0m\u001b[0;34m.\u001b[0m\u001b[0mhasnans\u001b[0m\u001b[0;34m:\u001b[0m\u001b[0;34m\u001b[0m\u001b[0;34m\u001b[0m\u001b[0m\n",
            "\u001b[0;31mKeyError\u001b[0m: ('Close', 'ABBOTINDIA.NS')"
          ]
        }
      ]
    }
  ],
  "metadata": {
    "colab": {
      "provenance": [],
      "include_colab_link": true
    },
    "kernelspec": {
      "display_name": "Python 3",
      "name": "python3"
    }
  },
  "nbformat": 4,
  "nbformat_minor": 0
}