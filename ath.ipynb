{
  "cells": [
    {
      "cell_type": "markdown",
      "metadata": {
        "id": "view-in-github",
        "colab_type": "text"
      },
      "source": [
        "<a href=\"https://colab.research.google.com/github/chethanmo/chethanmo.github.io/blob/master/ath.ipynb\" target=\"_parent\"><img src=\"https://colab.research.google.com/assets/colab-badge.svg\" alt=\"Open In Colab\"/></a>"
      ]
    },
    {
      "cell_type": "code",
      "source": [
        "!pip install pandas pandas-ta numpy matplotlib yfinance\n",
        "!pip install --upgrade pandas-datareader"
      ],
      "metadata": {
        "id": "kPz2L1AHBLsM"
      },
      "execution_count": null,
      "outputs": []
    },
    {
      "cell_type": "code",
      "source": [
        "import pandas_ta as ta\n",
        "import pandas as pd\n",
        "import matplotlib.pyplot as plt\n",
        "import math as math\n",
        "import yfinance as yf\n",
        "from dateutil.relativedelta import relativedelta\n",
        "from datetime import date as date\n"
      ],
      "metadata": {
        "id": "BW-R4XHD6EpE"
      },
      "execution_count": null,
      "outputs": []
    },
    {
      "cell_type": "code",
      "source": [
        "#ticker_yahoo = yf.Ticker('HINDZINC.NS')\n",
        "# ticker_yahoo.fast_info\n",
        "\n",
        "file_path = '/content/EQUITY_L.csv'\n",
        "fields = ['SYMBOL']\n",
        "tickers = pd.read_csv(file_path, usecols=fields)\n"
      ],
      "metadata": {
        "id": "lHNlAhtBcNZB"
      },
      "execution_count": null,
      "outputs": []
    },
    {
      "cell_type": "code",
      "source": [
        "##lazy-loading dict with keys = ['currency', 'exchange', 'timezone', 'shares', 'market_cap', 'last_price', 'previous_close', 'open', 'day_high', 'day_low', 'regular_market_previous_close', 'last_volume', 'fifty_day_average', 'two_hundred_day_average', 'ten_day_average_volume', 'three_month_average_volume', 'year_high', 'year_low', 'year_change']"
      ],
      "metadata": {
        "id": "A01IRE5TdoRz"
      },
      "execution_count": null,
      "outputs": []
    },
    {
      "cell_type": "code",
      "source": [
        "from concurrent.futures import ThreadPoolExecutor\n",
        "\n",
        "ath_list = []\n",
        "for i in range(0,len(tickers)):\n",
        "  ath_list.append(tickers['SYMBOL'][i] +'.NS')\n",
        "  \n",
        "\n",
        "\n",
        "def get_stats(ticker):\n",
        "    info = yf.Tickers(ticker).tickers[ticker].fast_info\n",
        "    #print(f\"{ticker} {info['last_price']} {info['year_high']}\")\n",
        "    return ticker, info['last_price'], info['year_high'], info['two_hundred_day_average']\n",
        "def paralel_func(ticker):\n",
        "    with ThreadPoolExecutor(max_workers=None) as executor:\n",
        "        results = list(executor.map(get_stats, ath_list))\n",
        "    return results\n",
        "\n",
        "results = paralel_func(ath_list)\n"
      ],
      "metadata": {
        "id": "W36q1QS8jThm"
      },
      "execution_count": null,
      "outputs": []
    },
    {
      "cell_type": "code",
      "source": [
        "ticker_list = pd.DataFrame(results, columns=['Ticker', 'Last_price', 'ATH', 'two_EMA']) #creating the dataframe\n",
        "\n",
        "pd.set_option('display.max_rows', None)\n",
        "\n",
        "ticker_list = ticker_list.query('Last_price < ATH * 0.95 and Last_price > ATH * 0.9 and Last_price > two_EMA')\n",
        "ticker_list.reset_index(drop=True, inplace=True)\n",
        "\n",
        "#ticker_list.to_csv('Watchlist.csv', index=False)\n",
        "#ticker_list\n"
      ],
      "metadata": {
        "id": "1Qb2vM2a7MEG"
      },
      "execution_count": null,
      "outputs": []
    },
    {
      "cell_type": "code",
      "source": [
        "startdate = date.today() - relativedelta(years=4)\n",
        "enddate = date.today()\n",
        "\n",
        "x = ticker_list['Ticker'].to_string(header=False,index=False).split('\\n')\n",
        "tickers = [','.join(ele.split()) for ele in x]\n",
        "\n",
        "df = yf.download(tickers, start= startdate, end= enddate)\n"
      ],
      "metadata": {
        "colab": {
          "base_uri": "https://localhost:8080/"
        },
        "id": "VGHHoLmxXT1D",
        "outputId": "2c5fb79f-c227-46b6-b77b-242e71b0be51"
      },
      "execution_count": null,
      "outputs": [
        {
          "output_type": "stream",
          "name": "stdout",
          "text": [
            "[*********************100%***********************]  104 of 104 completed\n"
          ]
        }
      ]
    },
    {
      "cell_type": "code",
      "source": [
        "pd.set_option('display.max_rows', 10)\n",
        "\n",
        "ax_df = df.copy()\n",
        "\n",
        "df1 = pd.DataFrame()\n",
        "\n",
        "\n",
        "for ticker in tickers:\n",
        "  test = ta.supertrend(close=ax_df[('Close', ticker)], high=ax_df[('High', ticker)], low=ax_df[('Low', ticker)], length=10, multiplier=1)\n",
        "  test1 = ta.supertrend(close=ax_df[('Close', ticker)], high=ax_df[('High', ticker)], low=ax_df[('Low', ticker)], length=11, multiplier=2)\n",
        "  test2 = ta.supertrend(close=ax_df[('Close', ticker)], high=ax_df[('High', ticker)], low=ax_df[('Low', ticker)], length=12, multiplier=3)\n",
        "  test3 = ta.ema(close=ax_df[('Close', ticker)], length=20).to_frame()\n",
        "  test4 = ta.ema(close=ax_df[('High', ticker)], length=20).to_frame()\n",
        "  test5 = ta.ema(close=ax_df[('Low', ticker)], length=20).to_frame()\n",
        "  test.columns = pd.MultiIndex.from_product([test.columns, [ticker]])\n",
        "  test1.columns = pd.MultiIndex.from_product([test1.columns, [ticker]])\n",
        "  test2.columns = pd.MultiIndex.from_product([test2.columns, [ticker]])\n",
        "  test3.columns = pd.MultiIndex.from_product([test3.columns, [ticker]])\n",
        "  test4.columns = pd.MultiIndex.from_product([test4.columns, [ticker]])\n",
        "  test5.columns = pd.MultiIndex.from_product([test5.columns, [ticker]])\n",
        "  df1 = pd.concat([df1, test, test1, test2, test3, test4, test5], axis=1)\n",
        "  df1.sort_index()\n",
        "  \n",
        "ax_df = pd.concat([ax_df, df1], axis=1)\n",
        "ax_df.reset_index()\n",
        "ax_df = ax_df.drop(['Adj Close','Open','Low','High','Volume'], level=0, axis=1)\n"
      ],
      "metadata": {
        "colab": {
          "base_uri": "https://localhost:8080/"
        },
        "id": "SCLstZLewbQd",
        "outputId": "27ae59b2-4cba-4199-c176-acedeeb92e8b"
      },
      "execution_count": null,
      "outputs": [
        {
          "output_type": "stream",
          "name": "stderr",
          "text": [
            "/usr/local/lib/python3.8/dist-packages/IPython/core/async_helpers.py:68: PerformanceWarning: indexing past lexsort depth may impact performance.\n",
            "  coro.send(None)\n"
          ]
        }
      ]
    },
    {
      "cell_type": "code",
      "source": [
        "ax_df.tail(2)"
      ],
      "metadata": {
        "colab": {
          "base_uri": "https://localhost:8080/",
          "height": 303
        },
        "id": "7FuMkW_o6pTk",
        "outputId": "c9716ef8-64c6-4282-8201-98803c61200a"
      },
      "execution_count": 134,
      "outputs": [
        {
          "output_type": "execute_result",
          "data": {
            "text/plain": [
              "                                  Close                                       \\\n",
              "                          ABBOTINDIA.NS      ACE.NS AEGISCHEM.NS  AGARIND.NS   \n",
              "Date                                                                           \n",
              "2023-02-02 00:00:00+05:30  20480.300781  331.399994   358.649994  635.849976   \n",
              "2023-02-03 00:00:00+05:30  20872.250000  329.549988   367.200012  641.250000   \n",
              "\n",
              "                                                                    \\\n",
              "                          AKZOINDIA.NS AMARAJABAT.NS ANANDRATHI.NS   \n",
              "Date                                                                 \n",
              "2023-02-02 00:00:00+05:30  2213.899902    615.549988    762.900024   \n",
              "2023-02-03 00:00:00+05:30  2210.300049    605.049988    763.150024   \n",
              "\n",
              "                                                                ...  \\\n",
              "                           APARINDS.NS  APTECHT.NS ASHOKLEY.NS  ...   \n",
              "Date                                                            ...   \n",
              "2023-02-02 00:00:00+05:30  2015.949951  357.899994  152.050003  ...   \n",
              "2023-02-03 00:00:00+05:30  1931.099976  362.500000  153.899994  ...   \n",
              "\n",
              "                          SUPERTd_11_2.0 SUPERTl_11_2.0 SUPERTs_11_2.0  \\\n",
              "                                VINNY.NS       VINNY.NS       VINNY.NS   \n",
              "Date                                                                     \n",
              "2023-02-02 00:00:00+05:30              1     233.360073            NaN   \n",
              "2023-02-03 00:00:00+05:30              1     238.190979            NaN   \n",
              "\n",
              "                          SUPERT_12_3.0 SUPERTd_12_3.0 SUPERTl_12_3.0  \\\n",
              "                               VINNY.NS       VINNY.NS       VINNY.NS   \n",
              "Date                                                                    \n",
              "2023-02-02 00:00:00+05:30    221.439619              1     221.439619   \n",
              "2023-02-03 00:00:00+05:30    225.550904              1     225.550904   \n",
              "\n",
              "                          SUPERTs_12_3.0      EMA_20                          \n",
              "                                VINNY.NS    VINNY.NS    VINNY.NS    VINNY.NS  \n",
              "Date                                                                          \n",
              "2023-02-02 00:00:00+05:30            NaN  209.058629  210.977903  200.282338  \n",
              "2023-02-03 00:00:00+05:30            NaN  214.881618  217.218103  205.417353  \n",
              "\n",
              "[2 rows x 1664 columns]"
            ],
            "text/html": [
              "\n",
              "  <div id=\"df-87ef91a4-fb74-4aa1-a12c-8cb1943def3c\">\n",
              "    <div class=\"colab-df-container\">\n",
              "      <div>\n",
              "<style scoped>\n",
              "    .dataframe tbody tr th:only-of-type {\n",
              "        vertical-align: middle;\n",
              "    }\n",
              "\n",
              "    .dataframe tbody tr th {\n",
              "        vertical-align: top;\n",
              "    }\n",
              "\n",
              "    .dataframe thead tr th {\n",
              "        text-align: left;\n",
              "    }\n",
              "\n",
              "    .dataframe thead tr:last-of-type th {\n",
              "        text-align: right;\n",
              "    }\n",
              "</style>\n",
              "<table border=\"1\" class=\"dataframe\">\n",
              "  <thead>\n",
              "    <tr>\n",
              "      <th></th>\n",
              "      <th colspan=\"10\" halign=\"left\">Close</th>\n",
              "      <th>...</th>\n",
              "      <th>SUPERTd_11_2.0</th>\n",
              "      <th>SUPERTl_11_2.0</th>\n",
              "      <th>SUPERTs_11_2.0</th>\n",
              "      <th>SUPERT_12_3.0</th>\n",
              "      <th>SUPERTd_12_3.0</th>\n",
              "      <th>SUPERTl_12_3.0</th>\n",
              "      <th>SUPERTs_12_3.0</th>\n",
              "      <th colspan=\"3\" halign=\"left\">EMA_20</th>\n",
              "    </tr>\n",
              "    <tr>\n",
              "      <th></th>\n",
              "      <th>ABBOTINDIA.NS</th>\n",
              "      <th>ACE.NS</th>\n",
              "      <th>AEGISCHEM.NS</th>\n",
              "      <th>AGARIND.NS</th>\n",
              "      <th>AKZOINDIA.NS</th>\n",
              "      <th>AMARAJABAT.NS</th>\n",
              "      <th>ANANDRATHI.NS</th>\n",
              "      <th>APARINDS.NS</th>\n",
              "      <th>APTECHT.NS</th>\n",
              "      <th>ASHOKLEY.NS</th>\n",
              "      <th>...</th>\n",
              "      <th>VINNY.NS</th>\n",
              "      <th>VINNY.NS</th>\n",
              "      <th>VINNY.NS</th>\n",
              "      <th>VINNY.NS</th>\n",
              "      <th>VINNY.NS</th>\n",
              "      <th>VINNY.NS</th>\n",
              "      <th>VINNY.NS</th>\n",
              "      <th>VINNY.NS</th>\n",
              "      <th>VINNY.NS</th>\n",
              "      <th>VINNY.NS</th>\n",
              "    </tr>\n",
              "    <tr>\n",
              "      <th>Date</th>\n",
              "      <th></th>\n",
              "      <th></th>\n",
              "      <th></th>\n",
              "      <th></th>\n",
              "      <th></th>\n",
              "      <th></th>\n",
              "      <th></th>\n",
              "      <th></th>\n",
              "      <th></th>\n",
              "      <th></th>\n",
              "      <th></th>\n",
              "      <th></th>\n",
              "      <th></th>\n",
              "      <th></th>\n",
              "      <th></th>\n",
              "      <th></th>\n",
              "      <th></th>\n",
              "      <th></th>\n",
              "      <th></th>\n",
              "      <th></th>\n",
              "      <th></th>\n",
              "    </tr>\n",
              "  </thead>\n",
              "  <tbody>\n",
              "    <tr>\n",
              "      <th>2023-02-02 00:00:00+05:30</th>\n",
              "      <td>20480.300781</td>\n",
              "      <td>331.399994</td>\n",
              "      <td>358.649994</td>\n",
              "      <td>635.849976</td>\n",
              "      <td>2213.899902</td>\n",
              "      <td>615.549988</td>\n",
              "      <td>762.900024</td>\n",
              "      <td>2015.949951</td>\n",
              "      <td>357.899994</td>\n",
              "      <td>152.050003</td>\n",
              "      <td>...</td>\n",
              "      <td>1</td>\n",
              "      <td>233.360073</td>\n",
              "      <td>NaN</td>\n",
              "      <td>221.439619</td>\n",
              "      <td>1</td>\n",
              "      <td>221.439619</td>\n",
              "      <td>NaN</td>\n",
              "      <td>209.058629</td>\n",
              "      <td>210.977903</td>\n",
              "      <td>200.282338</td>\n",
              "    </tr>\n",
              "    <tr>\n",
              "      <th>2023-02-03 00:00:00+05:30</th>\n",
              "      <td>20872.250000</td>\n",
              "      <td>329.549988</td>\n",
              "      <td>367.200012</td>\n",
              "      <td>641.250000</td>\n",
              "      <td>2210.300049</td>\n",
              "      <td>605.049988</td>\n",
              "      <td>763.150024</td>\n",
              "      <td>1931.099976</td>\n",
              "      <td>362.500000</td>\n",
              "      <td>153.899994</td>\n",
              "      <td>...</td>\n",
              "      <td>1</td>\n",
              "      <td>238.190979</td>\n",
              "      <td>NaN</td>\n",
              "      <td>225.550904</td>\n",
              "      <td>1</td>\n",
              "      <td>225.550904</td>\n",
              "      <td>NaN</td>\n",
              "      <td>214.881618</td>\n",
              "      <td>217.218103</td>\n",
              "      <td>205.417353</td>\n",
              "    </tr>\n",
              "  </tbody>\n",
              "</table>\n",
              "<p>2 rows × 1664 columns</p>\n",
              "</div>\n",
              "      <button class=\"colab-df-convert\" onclick=\"convertToInteractive('df-87ef91a4-fb74-4aa1-a12c-8cb1943def3c')\"\n",
              "              title=\"Convert this dataframe to an interactive table.\"\n",
              "              style=\"display:none;\">\n",
              "        \n",
              "  <svg xmlns=\"http://www.w3.org/2000/svg\" height=\"24px\"viewBox=\"0 0 24 24\"\n",
              "       width=\"24px\">\n",
              "    <path d=\"M0 0h24v24H0V0z\" fill=\"none\"/>\n",
              "    <path d=\"M18.56 5.44l.94 2.06.94-2.06 2.06-.94-2.06-.94-.94-2.06-.94 2.06-2.06.94zm-11 1L8.5 8.5l.94-2.06 2.06-.94-2.06-.94L8.5 2.5l-.94 2.06-2.06.94zm10 10l.94 2.06.94-2.06 2.06-.94-2.06-.94-.94-2.06-.94 2.06-2.06.94z\"/><path d=\"M17.41 7.96l-1.37-1.37c-.4-.4-.92-.59-1.43-.59-.52 0-1.04.2-1.43.59L10.3 9.45l-7.72 7.72c-.78.78-.78 2.05 0 2.83L4 21.41c.39.39.9.59 1.41.59.51 0 1.02-.2 1.41-.59l7.78-7.78 2.81-2.81c.8-.78.8-2.07 0-2.86zM5.41 20L4 18.59l7.72-7.72 1.47 1.35L5.41 20z\"/>\n",
              "  </svg>\n",
              "      </button>\n",
              "      \n",
              "  <style>\n",
              "    .colab-df-container {\n",
              "      display:flex;\n",
              "      flex-wrap:wrap;\n",
              "      gap: 12px;\n",
              "    }\n",
              "\n",
              "    .colab-df-convert {\n",
              "      background-color: #E8F0FE;\n",
              "      border: none;\n",
              "      border-radius: 50%;\n",
              "      cursor: pointer;\n",
              "      display: none;\n",
              "      fill: #1967D2;\n",
              "      height: 32px;\n",
              "      padding: 0 0 0 0;\n",
              "      width: 32px;\n",
              "    }\n",
              "\n",
              "    .colab-df-convert:hover {\n",
              "      background-color: #E2EBFA;\n",
              "      box-shadow: 0px 1px 2px rgba(60, 64, 67, 0.3), 0px 1px 3px 1px rgba(60, 64, 67, 0.15);\n",
              "      fill: #174EA6;\n",
              "    }\n",
              "\n",
              "    [theme=dark] .colab-df-convert {\n",
              "      background-color: #3B4455;\n",
              "      fill: #D2E3FC;\n",
              "    }\n",
              "\n",
              "    [theme=dark] .colab-df-convert:hover {\n",
              "      background-color: #434B5C;\n",
              "      box-shadow: 0px 1px 3px 1px rgba(0, 0, 0, 0.15);\n",
              "      filter: drop-shadow(0px 1px 2px rgba(0, 0, 0, 0.3));\n",
              "      fill: #FFFFFF;\n",
              "    }\n",
              "  </style>\n",
              "\n",
              "      <script>\n",
              "        const buttonEl =\n",
              "          document.querySelector('#df-87ef91a4-fb74-4aa1-a12c-8cb1943def3c button.colab-df-convert');\n",
              "        buttonEl.style.display =\n",
              "          google.colab.kernel.accessAllowed ? 'block' : 'none';\n",
              "\n",
              "        async function convertToInteractive(key) {\n",
              "          const element = document.querySelector('#df-87ef91a4-fb74-4aa1-a12c-8cb1943def3c');\n",
              "          const dataTable =\n",
              "            await google.colab.kernel.invokeFunction('convertToInteractive',\n",
              "                                                     [key], {});\n",
              "          if (!dataTable) return;\n",
              "\n",
              "          const docLinkHtml = 'Like what you see? Visit the ' +\n",
              "            '<a target=\"_blank\" href=https://colab.research.google.com/notebooks/data_table.ipynb>data table notebook</a>'\n",
              "            + ' to learn more about interactive tables.';\n",
              "          element.innerHTML = '';\n",
              "          dataTable['output_type'] = 'display_data';\n",
              "          await google.colab.output.renderOutput(dataTable, element);\n",
              "          const docLink = document.createElement('div');\n",
              "          docLink.innerHTML = docLinkHtml;\n",
              "          element.appendChild(docLink);\n",
              "        }\n",
              "      </script>\n",
              "    </div>\n",
              "  </div>\n",
              "  "
            ]
          },
          "metadata": {},
          "execution_count": 134
        }
      ]
    }
  ],
  "metadata": {
    "colab": {
      "provenance": [],
      "include_colab_link": true
    },
    "kernelspec": {
      "display_name": "Python 3",
      "name": "python3"
    }
  },
  "nbformat": 4,
  "nbformat_minor": 0
}