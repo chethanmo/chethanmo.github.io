{
  "nbformat": 4,
  "nbformat_minor": 0,
  "metadata": {
    "colab": {
      "provenance": [],
      "authorship_tag": "ABX9TyMUDQqUZjv8b2/B3kYA96/r",
      "include_colab_link": true
    },
    "kernelspec": {
      "name": "python3",
      "display_name": "Python 3"
    },
    "language_info": {
      "name": "python"
    }
  },
  "cells": [
    {
      "cell_type": "markdown",
      "metadata": {
        "id": "view-in-github",
        "colab_type": "text"
      },
      "source": [
        "<a href=\"https://colab.research.google.com/github/chethanmo/chethanmo.github.io/blob/master/ema_supertrend.ipynb\" target=\"_parent\"><img src=\"https://colab.research.google.com/assets/colab-badge.svg\" alt=\"Open In Colab\"/></a>"
      ]
    },
    {
      "cell_type": "code",
      "execution_count": null,
      "metadata": {
        "id": "pi2D7CJWLNyK"
      },
      "outputs": [],
      "source": [
        "!pip install pandas\n",
        "!pip install --upgrade pandas-datareader\n",
        "!pip install yfinance\n",
        "!pip install numpy\n",
        "!pip install matplotlib\n",
        "!pip install pandas-ta"
      ]
    },
    {
      "cell_type": "code",
      "source": [
        "from dateutil.relativedelta import relativedelta\n",
        "from datetime import date\n",
        "import pandas as pd\n",
        "import yfinance as yf\n",
        "import numpy as np\n",
        "import matplotlib.pyplot as plt\n",
        "import pandas_ta as ta\n",
        "import math as math"
      ],
      "metadata": {
        "id": "RGVRTKElb6DE"
      },
      "execution_count": 21,
      "outputs": []
    },
    {
      "cell_type": "code",
      "source": [
        "startdate = dt.today() - relativedelta(years=4)\n",
        "enddate = dt.today()\n",
        "\n",
        "df = yf.download('HINDZINC.NS' , start= startdate, end= enddate)\n",
        "\n",
        "#Stochastic\n",
        "df['14-high'] = df['High'].rolling(14).max()\n",
        "df['14-low'] = df['Low'].rolling(14).min()\n",
        "df['%K'] = (df['Close'] - df['14-low'])*100 / (df['14-high'] - df['14-low'])\n",
        "df['%D'] = df['%K'].rolling(3).mean()\n",
        "\n",
        "#ema\n",
        "df.ta.ema(close='Close', length=200, append=True)\n",
        "\n",
        "#Stochastic\n",
        "df.ta.supertrend(high='High', low='Low', close='Close', length=10, multiplier=1, append=True)\n",
        "df.ta.supertrend(high='High', low='Low', close='Close', length=11, multiplier=2, append=True)\n",
        "df.ta.supertrend(high='High', low='Low', close='Close', length=12, multiplier=3, append=True)"
      ],
      "metadata": {
        "id": "KWyhqsubb_V6"
      },
      "execution_count": null,
      "outputs": []
    },
    {
      "cell_type": "code",
      "source": [
        "def backtest_super5(signal, investment):\n",
        "\n",
        "  close = signal['Close']\n",
        "  entry = []\n",
        "  exit = []\n",
        "  share = 0\n",
        "  price_pos = 0\n",
        "  p_l = 0\n",
        "  b_l = 0\n",
        "  in_position = False\n",
        "  equity = investment\n",
        "\n",
        "  \n",
        "  for i in range (0, len(signal)):\n",
        "\n",
        "    \n",
        "    if signal['EMA_200'][i] < close[i]:      \n",
        "      if not in_position and signal['Supertrend'][i] == 3 and signal['%K'][i] < signal['%D'][i]:\n",
        "        share = math.floor(equity / close[i] )\n",
        "        b_l = share * close[i]\n",
        "        equity -= share * close[i]\n",
        "        entry.append((i, close[i]))\n",
        "        price_pos = i\n",
        "        in_position = True\n",
        "        print(f'Buy {share} shares at {round(close[i],2)} on {df.index[i].strftime(\"%Y/%m/%d\")}')\n",
        "      elif in_position and signal['High'][i] > close[price_pos]*1.03:\n",
        "        p_l = share * close[price_pos]*1.03 - b_l\n",
        "        equity += share * close[price_pos]*1.03\n",
        "        exit.append((i, close[price_pos]*1.03))\n",
        "        in_position = False\n",
        "        print(f'Sell at {round(close[price_pos]*1.03,2)} on {df.index[i].strftime(\"%Y/%m/%d\")}')\n",
        "        print(f'You made {round(p_l,2)} \\n')\n",
        "        print(f'The Balance is {round(equity,2)} \\n')\n",
        "      elif in_position and (df.index[i] - df.index[price_pos]).days > 60:\n",
        "        p_l = share * close[i] - b_l\n",
        "        equity += share * close[i]\n",
        "        exit.append((i, close[i]))\n",
        "        in_position = False\n",
        "        print(f'Sell at {round(close[i],2)} on {df.index[i].strftime(\"%Y/%m/%d\")}')\n",
        "        print(f'You made {round(p_l,2)} due to overextension \\n')\n",
        "        print(f'The Balance is {round(equity,2)} \\n')\n",
        "        \n",
        "  if in_position:\n",
        "      equity += share * close[i]\n",
        "        \n",
        "  earning = equity - investment\n",
        "  roi = round(earning/investment*100,2)\n",
        "  print(f'Earning from investing INR 100k is INR {earning} (ROI = {roi}%)')\n",
        "  return entry, exit, equity\n"
      ],
      "metadata": {
        "id": "ndHldVs1cLAr"
      },
      "execution_count": 85,
      "outputs": []
    },
    {
      "cell_type": "code",
      "source": [
        "#df=(df.loc['2022-1-1':'2023-6-29'])\n",
        "entry, exit, roi = backtest_super5(df, 100000)"
      ],
      "metadata": {
        "colab": {
          "base_uri": "https://localhost:8080/"
        },
        "id": "5iOCOYzIcNeF",
        "outputId": "e5c2cf37-81a2-4f5b-fe66-5e109b75d8ad"
      },
      "execution_count": 86,
      "outputs": [
        {
          "output_type": "stream",
          "name": "stdout",
          "text": [
            "Buy 303 shares at 329.7 on 2022/01/04\n",
            "Sell at 339.59 on 2022/03/02\n",
            "You made 2996.97 \n",
            "\n",
            "The Balance is 102996.97 \n",
            "\n",
            "Buy 292 shares at 351.75 on 2022/03/02\n",
            "Sell at 362.3 on 2022/03/03\n",
            "You made 3081.33 \n",
            "\n",
            "The Balance is 106078.3 \n",
            "\n",
            "Buy 332 shares at 319.5 on 2022/04/01\n",
            "Sell at 329.08 on 2022/04/05\n",
            "You made 3182.22 \n",
            "\n",
            "The Balance is 109260.52 \n",
            "\n",
            "Buy 333 shares at 327.4 on 2022/04/05\n",
            "Sell at 337.22 on 2022/04/07\n",
            "You made 3270.73 \n",
            "\n",
            "The Balance is 112531.25 \n",
            "\n",
            "Buy 336 shares at 334.85 on 2022/04/07\n",
            "Sell at 344.9 on 2022/04/11\n",
            "You made 3375.29 \n",
            "\n",
            "The Balance is 115906.54 \n",
            "\n",
            "Buy 332 shares at 348.5 on 2022/04/11\n",
            "Sell at 269.05 on 2022/07/11\n",
            "You made -26377.4 due to overextension \n",
            "\n",
            "The Balance is 89529.13 \n",
            "\n",
            "Buy 331 shares at 270.25 on 2022/07/11\n",
            "Sell at 278.36 on 2022/07/14\n",
            "You made 2683.58 \n",
            "\n",
            "The Balance is 92212.72 \n",
            "\n",
            "Buy 324 shares at 283.95 on 2022/07/14\n",
            "Sell at 292.47 on 2022/07/18\n",
            "You made 2759.99 \n",
            "\n",
            "The Balance is 94972.71 \n",
            "\n",
            "Buy 323 shares at 293.6 on 2022/07/18\n",
            "Sell at 283.8 on 2022/09/23\n",
            "You made -3165.41 due to overextension \n",
            "\n",
            "The Balance is 91807.3 \n",
            "\n",
            "Buy 323 shares at 283.5 on 2022/10/06\n",
            "Sell at 292.0 on 2022/10/14\n",
            "You made 2747.12 \n",
            "\n",
            "The Balance is 94554.42 \n",
            "\n",
            "Buy 326 shares at 289.55 on 2022/10/14\n",
            "Sell at 298.24 on 2022/11/11\n",
            "You made 2831.8 \n",
            "\n",
            "The Balance is 97386.22 \n",
            "\n",
            "Buy 328 shares at 296.15 on 2022/11/11\n",
            "Sell at 305.03 on 2022/11/14\n",
            "You made 2914.12 \n",
            "\n",
            "The Balance is 100300.33 \n",
            "\n",
            "Buy 326 shares at 307.6 on 2022/11/14\n",
            "Sell at 316.83 on 2022/11/16\n",
            "You made 3008.33 \n",
            "\n",
            "The Balance is 103308.66 \n",
            "\n",
            "Buy 324 shares at 318.8 on 2022/11/16\n",
            "Sell at 328.36 on 2022/12/20\n",
            "You made 3098.74 \n",
            "\n",
            "The Balance is 106407.4 \n",
            "\n",
            "Buy 324 shares at 328.2 on 2022/12/20\n",
            "Sell at 338.05 on 2023/01/05\n",
            "You made 3190.1 \n",
            "\n",
            "The Balance is 109597.5 \n",
            "\n",
            "Buy 323 shares at 338.8 on 2023/01/05\n",
            "Sell at 348.96 on 2023/01/13\n",
            "You made 3282.97 \n",
            "\n",
            "The Balance is 112880.47 \n",
            "\n",
            "Buy 322 shares at 349.7 on 2023/01/13\n",
            "Sell at 360.19 on 2023/01/18\n",
            "You made 3378.1 \n",
            "\n",
            "The Balance is 116258.58 \n",
            "\n",
            "Buy 322 shares at 360.8 on 2023/01/18\n",
            "Sell at 371.62 on 2023/01/19\n",
            "You made 3485.33 \n",
            "\n",
            "The Balance is 119743.9 \n",
            "\n",
            "Buy 317 shares at 377.55 on 2023/01/19\n",
            "Earning from investing INR 100k is INR 8157.557394714415 (ROI = 8.16%)\n"
          ]
        }
      ]
    }
  ]
}